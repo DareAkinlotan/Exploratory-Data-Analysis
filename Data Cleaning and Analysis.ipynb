{
 "cells": [
  {
   "cell_type": "markdown",
   "metadata": {},
   "source": [
    "## Data Cleaning and Analysis"
   ]
  },
  {
   "cell_type": "markdown",
   "metadata": {},
   "source": [
    "1. Data Aggregation"
   ]
  },
  {
   "cell_type": "code",
   "execution_count": 43,
   "metadata": {},
   "outputs": [],
   "source": [
    "import pandas as pd\n",
    "import numpy as np\n",
    "import matplotlib.pyplot as plt\n",
    "from numpy import arange \n",
    "import seaborn as sns"
   ]
  },
  {
   "cell_type": "code",
   "execution_count": 44,
   "metadata": {},
   "outputs": [
    {
     "data": {
      "text/html": [
       "<div>\n",
       "<style scoped>\n",
       "    .dataframe tbody tr th:only-of-type {\n",
       "        vertical-align: middle;\n",
       "    }\n",
       "\n",
       "    .dataframe tbody tr th {\n",
       "        vertical-align: top;\n",
       "    }\n",
       "\n",
       "    .dataframe thead th {\n",
       "        text-align: right;\n",
       "    }\n",
       "</style>\n",
       "<table border=\"1\" class=\"dataframe\">\n",
       "  <thead>\n",
       "    <tr style=\"text-align: right;\">\n",
       "      <th></th>\n",
       "      <th>Country</th>\n",
       "      <th>Region</th>\n",
       "      <th>Happiness Rank</th>\n",
       "      <th>Happiness Score</th>\n",
       "      <th>Standard Error</th>\n",
       "      <th>Economy (GDP per Capita)</th>\n",
       "      <th>Family</th>\n",
       "      <th>Health (Life Expectancy)</th>\n",
       "      <th>Freedom</th>\n",
       "      <th>Trust (Government Corruption)</th>\n",
       "      <th>Generosity</th>\n",
       "      <th>Dystopia Residual</th>\n",
       "    </tr>\n",
       "  </thead>\n",
       "  <tbody>\n",
       "    <tr>\n",
       "      <td>0</td>\n",
       "      <td>Switzerland</td>\n",
       "      <td>Western Europe</td>\n",
       "      <td>1</td>\n",
       "      <td>7.587</td>\n",
       "      <td>0.03411</td>\n",
       "      <td>1.39651</td>\n",
       "      <td>1.34951</td>\n",
       "      <td>0.94143</td>\n",
       "      <td>0.66557</td>\n",
       "      <td>0.41978</td>\n",
       "      <td>0.29678</td>\n",
       "      <td>2.51738</td>\n",
       "    </tr>\n",
       "    <tr>\n",
       "      <td>1</td>\n",
       "      <td>Iceland</td>\n",
       "      <td>Western Europe</td>\n",
       "      <td>2</td>\n",
       "      <td>7.561</td>\n",
       "      <td>0.04884</td>\n",
       "      <td>1.30232</td>\n",
       "      <td>1.40223</td>\n",
       "      <td>0.94784</td>\n",
       "      <td>0.62877</td>\n",
       "      <td>0.14145</td>\n",
       "      <td>0.43630</td>\n",
       "      <td>2.70201</td>\n",
       "    </tr>\n",
       "    <tr>\n",
       "      <td>2</td>\n",
       "      <td>Denmark</td>\n",
       "      <td>Western Europe</td>\n",
       "      <td>3</td>\n",
       "      <td>7.527</td>\n",
       "      <td>0.03328</td>\n",
       "      <td>1.32548</td>\n",
       "      <td>1.36058</td>\n",
       "      <td>0.87464</td>\n",
       "      <td>0.64938</td>\n",
       "      <td>0.48357</td>\n",
       "      <td>0.34139</td>\n",
       "      <td>2.49204</td>\n",
       "    </tr>\n",
       "    <tr>\n",
       "      <td>3</td>\n",
       "      <td>Norway</td>\n",
       "      <td>Western Europe</td>\n",
       "      <td>4</td>\n",
       "      <td>7.522</td>\n",
       "      <td>0.03880</td>\n",
       "      <td>1.45900</td>\n",
       "      <td>1.33095</td>\n",
       "      <td>0.88521</td>\n",
       "      <td>0.66973</td>\n",
       "      <td>0.36503</td>\n",
       "      <td>0.34699</td>\n",
       "      <td>2.46531</td>\n",
       "    </tr>\n",
       "    <tr>\n",
       "      <td>4</td>\n",
       "      <td>Canada</td>\n",
       "      <td>North America</td>\n",
       "      <td>5</td>\n",
       "      <td>7.427</td>\n",
       "      <td>0.03553</td>\n",
       "      <td>1.32629</td>\n",
       "      <td>1.32261</td>\n",
       "      <td>0.90563</td>\n",
       "      <td>0.63297</td>\n",
       "      <td>0.32957</td>\n",
       "      <td>0.45811</td>\n",
       "      <td>2.45176</td>\n",
       "    </tr>\n",
       "  </tbody>\n",
       "</table>\n",
       "</div>"
      ],
      "text/plain": [
       "       Country          Region  Happiness Rank  Happiness Score  \\\n",
       "0  Switzerland  Western Europe               1            7.587   \n",
       "1      Iceland  Western Europe               2            7.561   \n",
       "2      Denmark  Western Europe               3            7.527   \n",
       "3       Norway  Western Europe               4            7.522   \n",
       "4       Canada   North America               5            7.427   \n",
       "\n",
       "   Standard Error  Economy (GDP per Capita)   Family  \\\n",
       "0         0.03411                   1.39651  1.34951   \n",
       "1         0.04884                   1.30232  1.40223   \n",
       "2         0.03328                   1.32548  1.36058   \n",
       "3         0.03880                   1.45900  1.33095   \n",
       "4         0.03553                   1.32629  1.32261   \n",
       "\n",
       "   Health (Life Expectancy)  Freedom  Trust (Government Corruption)  \\\n",
       "0                   0.94143  0.66557                        0.41978   \n",
       "1                   0.94784  0.62877                        0.14145   \n",
       "2                   0.87464  0.64938                        0.48357   \n",
       "3                   0.88521  0.66973                        0.36503   \n",
       "4                   0.90563  0.63297                        0.32957   \n",
       "\n",
       "   Generosity  Dystopia Residual  \n",
       "0     0.29678            2.51738  \n",
       "1     0.43630            2.70201  \n",
       "2     0.34139            2.49204  \n",
       "3     0.34699            2.46531  \n",
       "4     0.45811            2.45176  "
      ]
     },
     "execution_count": 44,
     "metadata": {},
     "output_type": "execute_result"
    }
   ],
   "source": [
    "happiness2015 = pd.read_csv(\"World_Happiness_2015.csv\")\n",
    "happiness2015.head()"
   ]
  },
  {
   "cell_type": "code",
   "execution_count": 45,
   "metadata": {},
   "outputs": [
    {
     "data": {
      "text/html": [
       "<div>\n",
       "<style scoped>\n",
       "    .dataframe tbody tr th:only-of-type {\n",
       "        vertical-align: middle;\n",
       "    }\n",
       "\n",
       "    .dataframe tbody tr th {\n",
       "        vertical-align: top;\n",
       "    }\n",
       "\n",
       "    .dataframe thead th {\n",
       "        text-align: right;\n",
       "    }\n",
       "</style>\n",
       "<table border=\"1\" class=\"dataframe\">\n",
       "  <thead>\n",
       "    <tr style=\"text-align: right;\">\n",
       "      <th></th>\n",
       "      <th>Happiness Rank</th>\n",
       "      <th>Happiness Score</th>\n",
       "      <th>Standard Error</th>\n",
       "      <th>Economy (GDP per Capita)</th>\n",
       "      <th>Family</th>\n",
       "      <th>Health (Life Expectancy)</th>\n",
       "      <th>Freedom</th>\n",
       "      <th>Trust (Government Corruption)</th>\n",
       "      <th>Generosity</th>\n",
       "      <th>Dystopia Residual</th>\n",
       "    </tr>\n",
       "  </thead>\n",
       "  <tbody>\n",
       "    <tr>\n",
       "      <td>count</td>\n",
       "      <td>158.000000</td>\n",
       "      <td>158.000000</td>\n",
       "      <td>158.000000</td>\n",
       "      <td>158.000000</td>\n",
       "      <td>158.000000</td>\n",
       "      <td>158.000000</td>\n",
       "      <td>158.000000</td>\n",
       "      <td>158.000000</td>\n",
       "      <td>158.000000</td>\n",
       "      <td>158.000000</td>\n",
       "    </tr>\n",
       "    <tr>\n",
       "      <td>mean</td>\n",
       "      <td>79.493671</td>\n",
       "      <td>5.375734</td>\n",
       "      <td>0.047885</td>\n",
       "      <td>0.846137</td>\n",
       "      <td>0.991046</td>\n",
       "      <td>0.630259</td>\n",
       "      <td>0.428615</td>\n",
       "      <td>0.143422</td>\n",
       "      <td>0.237296</td>\n",
       "      <td>2.098977</td>\n",
       "    </tr>\n",
       "    <tr>\n",
       "      <td>std</td>\n",
       "      <td>45.754363</td>\n",
       "      <td>1.145010</td>\n",
       "      <td>0.017146</td>\n",
       "      <td>0.403121</td>\n",
       "      <td>0.272369</td>\n",
       "      <td>0.247078</td>\n",
       "      <td>0.150693</td>\n",
       "      <td>0.120034</td>\n",
       "      <td>0.126685</td>\n",
       "      <td>0.553550</td>\n",
       "    </tr>\n",
       "    <tr>\n",
       "      <td>min</td>\n",
       "      <td>1.000000</td>\n",
       "      <td>2.839000</td>\n",
       "      <td>0.018480</td>\n",
       "      <td>0.000000</td>\n",
       "      <td>0.000000</td>\n",
       "      <td>0.000000</td>\n",
       "      <td>0.000000</td>\n",
       "      <td>0.000000</td>\n",
       "      <td>0.000000</td>\n",
       "      <td>0.328580</td>\n",
       "    </tr>\n",
       "    <tr>\n",
       "      <td>25%</td>\n",
       "      <td>40.250000</td>\n",
       "      <td>4.526000</td>\n",
       "      <td>0.037268</td>\n",
       "      <td>0.545808</td>\n",
       "      <td>0.856823</td>\n",
       "      <td>0.439185</td>\n",
       "      <td>0.328330</td>\n",
       "      <td>0.061675</td>\n",
       "      <td>0.150553</td>\n",
       "      <td>1.759410</td>\n",
       "    </tr>\n",
       "    <tr>\n",
       "      <td>50%</td>\n",
       "      <td>79.500000</td>\n",
       "      <td>5.232500</td>\n",
       "      <td>0.043940</td>\n",
       "      <td>0.910245</td>\n",
       "      <td>1.029510</td>\n",
       "      <td>0.696705</td>\n",
       "      <td>0.435515</td>\n",
       "      <td>0.107220</td>\n",
       "      <td>0.216130</td>\n",
       "      <td>2.095415</td>\n",
       "    </tr>\n",
       "    <tr>\n",
       "      <td>75%</td>\n",
       "      <td>118.750000</td>\n",
       "      <td>6.243750</td>\n",
       "      <td>0.052300</td>\n",
       "      <td>1.158448</td>\n",
       "      <td>1.214405</td>\n",
       "      <td>0.811013</td>\n",
       "      <td>0.549092</td>\n",
       "      <td>0.180255</td>\n",
       "      <td>0.309883</td>\n",
       "      <td>2.462415</td>\n",
       "    </tr>\n",
       "    <tr>\n",
       "      <td>max</td>\n",
       "      <td>158.000000</td>\n",
       "      <td>7.587000</td>\n",
       "      <td>0.136930</td>\n",
       "      <td>1.690420</td>\n",
       "      <td>1.402230</td>\n",
       "      <td>1.025250</td>\n",
       "      <td>0.669730</td>\n",
       "      <td>0.551910</td>\n",
       "      <td>0.795880</td>\n",
       "      <td>3.602140</td>\n",
       "    </tr>\n",
       "  </tbody>\n",
       "</table>\n",
       "</div>"
      ],
      "text/plain": [
       "       Happiness Rank  Happiness Score  Standard Error  \\\n",
       "count      158.000000       158.000000      158.000000   \n",
       "mean        79.493671         5.375734        0.047885   \n",
       "std         45.754363         1.145010        0.017146   \n",
       "min          1.000000         2.839000        0.018480   \n",
       "25%         40.250000         4.526000        0.037268   \n",
       "50%         79.500000         5.232500        0.043940   \n",
       "75%        118.750000         6.243750        0.052300   \n",
       "max        158.000000         7.587000        0.136930   \n",
       "\n",
       "       Economy (GDP per Capita)      Family  Health (Life Expectancy)  \\\n",
       "count                158.000000  158.000000                158.000000   \n",
       "mean                   0.846137    0.991046                  0.630259   \n",
       "std                    0.403121    0.272369                  0.247078   \n",
       "min                    0.000000    0.000000                  0.000000   \n",
       "25%                    0.545808    0.856823                  0.439185   \n",
       "50%                    0.910245    1.029510                  0.696705   \n",
       "75%                    1.158448    1.214405                  0.811013   \n",
       "max                    1.690420    1.402230                  1.025250   \n",
       "\n",
       "          Freedom  Trust (Government Corruption)  Generosity  \\\n",
       "count  158.000000                     158.000000  158.000000   \n",
       "mean     0.428615                       0.143422    0.237296   \n",
       "std      0.150693                       0.120034    0.126685   \n",
       "min      0.000000                       0.000000    0.000000   \n",
       "25%      0.328330                       0.061675    0.150553   \n",
       "50%      0.435515                       0.107220    0.216130   \n",
       "75%      0.549092                       0.180255    0.309883   \n",
       "max      0.669730                       0.551910    0.795880   \n",
       "\n",
       "       Dystopia Residual  \n",
       "count         158.000000  \n",
       "mean            2.098977  \n",
       "std             0.553550  \n",
       "min             0.328580  \n",
       "25%             1.759410  \n",
       "50%             2.095415  \n",
       "75%             2.462415  \n",
       "max             3.602140  "
      ]
     },
     "execution_count": 45,
     "metadata": {},
     "output_type": "execute_result"
    }
   ],
   "source": [
    "happiness2015.describe()"
   ]
  },
  {
   "cell_type": "code",
   "execution_count": 46,
   "metadata": {},
   "outputs": [
    {
     "name": "stdout",
     "output_type": "stream",
     "text": [
      "<class 'pandas.core.frame.DataFrame'>\n",
      "RangeIndex: 158 entries, 0 to 157\n",
      "Data columns (total 12 columns):\n",
      "Country                          158 non-null object\n",
      "Region                           158 non-null object\n",
      "Happiness Rank                   158 non-null int64\n",
      "Happiness Score                  158 non-null float64\n",
      "Standard Error                   158 non-null float64\n",
      "Economy (GDP per Capita)         158 non-null float64\n",
      "Family                           158 non-null float64\n",
      "Health (Life Expectancy)         158 non-null float64\n",
      "Freedom                          158 non-null float64\n",
      "Trust (Government Corruption)    158 non-null float64\n",
      "Generosity                       158 non-null float64\n",
      "Dystopia Residual                158 non-null float64\n",
      "dtypes: float64(9), int64(1), object(2)\n",
      "memory usage: 14.9+ KB\n"
     ]
    }
   ],
   "source": [
    "happiness2015.info()"
   ]
  },
  {
   "cell_type": "code",
   "execution_count": 5,
   "metadata": {},
   "outputs": [
    {
     "data": {
      "text/plain": [
       "array(['Western Europe', 'North America', 'Australia and New Zealand',\n",
       "       'Middle East and Northern Africa', 'Latin America and Caribbean',\n",
       "       'Southeastern Asia', 'Central and Eastern Europe', 'Eastern Asia',\n",
       "       'Sub-Saharan Africa', 'Southern Asia'], dtype=object)"
      ]
     },
     "execution_count": 5,
     "metadata": {},
     "output_type": "execute_result"
    }
   ],
   "source": [
    "regions = happiness2015[\"Region\"].unique()\n",
    "regions"
   ]
  },
  {
   "cell_type": "code",
   "execution_count": 6,
   "metadata": {},
   "outputs": [],
   "source": [
    "region_dic = {}\n",
    "for r in happiness2015[\"Region\"]:\n",
    "    if r not in region_dic:\n",
    "        region_dic[r] = 1\n",
    "    else:\n",
    "        region_dic[r] += 1"
   ]
  },
  {
   "cell_type": "code",
   "execution_count": 7,
   "metadata": {},
   "outputs": [
    {
     "data": {
      "text/plain": [
       "{'Western Europe': 21,\n",
       " 'North America': 2,\n",
       " 'Australia and New Zealand': 2,\n",
       " 'Middle East and Northern Africa': 20,\n",
       " 'Latin America and Caribbean': 22,\n",
       " 'Southeastern Asia': 9,\n",
       " 'Central and Eastern Europe': 29,\n",
       " 'Eastern Asia': 6,\n",
       " 'Sub-Saharan Africa': 40,\n",
       " 'Southern Asia': 7}"
      ]
     },
     "execution_count": 7,
     "metadata": {},
     "output_type": "execute_result"
    }
   ],
   "source": [
    "region_dic"
   ]
  },
  {
   "cell_type": "code",
   "execution_count": 8,
   "metadata": {},
   "outputs": [
    {
     "data": {
      "text/plain": [
       "{'Western Europe': 6.689619047619048,\n",
       " 'North America': 7.273,\n",
       " 'Australia and New Zealand': 7.285,\n",
       " 'Middle East and Northern Africa': 5.406899999999999,\n",
       " 'Latin America and Caribbean': 6.144681818181818,\n",
       " 'Southeastern Asia': 5.317444444444445,\n",
       " 'Central and Eastern Europe': 5.332931034482758,\n",
       " 'Eastern Asia': 5.626166666666666,\n",
       " 'Sub-Saharan Africa': 4.202800000000001,\n",
       " 'Southern Asia': 4.580857142857143}"
      ]
     },
     "execution_count": 8,
     "metadata": {},
     "output_type": "execute_result"
    }
   ],
   "source": [
    "mean_happiness = {}\n",
    "for r in regions:\n",
    "    region_group = happiness2015[happiness2015[\"Region\"] == r]\n",
    "    uhm = region_group[\"Happiness Score\"].mean()\n",
    "    mean_happiness[r] = uhm\n",
    "    \n",
    "mean_happiness"
   ]
  },
  {
   "cell_type": "code",
   "execution_count": 9,
   "metadata": {},
   "outputs": [
    {
     "data": {
      "text/plain": [
       "{'Australia and New Zealand': Int64Index([8, 9], dtype='int64'),\n",
       " 'Central and Eastern Europe': Int64Index([ 30,  43,  44,  51,  53,  54,  55,  58,  59,  61,  63,  68,  69,\n",
       "              72,  76,  79,  82,  85,  86,  88,  92,  94,  95, 103, 105, 110,\n",
       "             126, 129, 133],\n",
       "            dtype='int64'),\n",
       " 'Eastern Asia': Int64Index([37, 45, 46, 71, 83, 99], dtype='int64'),\n",
       " 'Latin America and Caribbean': Int64Index([ 11,  13,  15,  22,  24,  26,  29,  31,  32,  39,  40,  41,  42,\n",
       "              47,  50,  52,  56,  57,  64,  97, 104, 118],\n",
       "            dtype='int64'),\n",
       " 'Middle East and Northern Africa': Int64Index([ 10,  19,  21,  27,  34,  38,  48,  62,  67,  75,  81,  91, 102,\n",
       "             106, 107, 109, 111, 134, 135, 155],\n",
       "            dtype='int64'),\n",
       " 'North America': Int64Index([4, 14], dtype='int64'),\n",
       " 'Southeastern Asia': Int64Index([23, 33, 60, 73, 74, 89, 98, 128, 144], dtype='int64'),\n",
       " 'Southern Asia': Int64Index([78, 80, 108, 116, 120, 131, 152], dtype='int64'),\n",
       " 'Sub-Saharan Africa': Int64Index([ 70,  77,  84,  90,  93,  96, 100, 112, 113, 114, 115, 117, 119,\n",
       "             121, 122, 123, 124, 125, 127, 130, 132, 136, 137, 138, 139, 140,\n",
       "             141, 142, 143, 145, 146, 147, 148, 149, 150, 151, 153, 154, 156,\n",
       "             157],\n",
       "            dtype='int64'),\n",
       " 'Western Europe': Int64Index([0, 1, 2, 3, 5, 6, 7, 12, 16, 17, 18, 20, 25, 28, 35, 36, 49, 65,\n",
       "             66, 87, 101],\n",
       "            dtype='int64')}"
      ]
     },
     "execution_count": 9,
     "metadata": {},
     "output_type": "execute_result"
    }
   ],
   "source": [
    "grouped = happiness2015.groupby(\"Region\")\n",
    "sub_africa = grouped.get_group(\"Sub-Saharan Africa\")\n",
    "grouped.groups"
   ]
  },
  {
   "cell_type": "code",
   "execution_count": 10,
   "metadata": {},
   "outputs": [
    {
     "data": {
      "text/html": [
       "<div>\n",
       "<style scoped>\n",
       "    .dataframe tbody tr th:only-of-type {\n",
       "        vertical-align: middle;\n",
       "    }\n",
       "\n",
       "    .dataframe tbody tr th {\n",
       "        vertical-align: top;\n",
       "    }\n",
       "\n",
       "    .dataframe thead th {\n",
       "        text-align: right;\n",
       "    }\n",
       "</style>\n",
       "<table border=\"1\" class=\"dataframe\">\n",
       "  <thead>\n",
       "    <tr style=\"text-align: right;\">\n",
       "      <th></th>\n",
       "      <th>Happiness Rank</th>\n",
       "      <th>Happiness Score</th>\n",
       "      <th>Standard Error</th>\n",
       "      <th>Economy (GDP per Capita)</th>\n",
       "      <th>Family</th>\n",
       "      <th>Health (Life Expectancy)</th>\n",
       "      <th>Freedom</th>\n",
       "      <th>Trust (Government Corruption)</th>\n",
       "      <th>Generosity</th>\n",
       "      <th>Dystopia Residual</th>\n",
       "    </tr>\n",
       "    <tr>\n",
       "      <th>Region</th>\n",
       "      <th></th>\n",
       "      <th></th>\n",
       "      <th></th>\n",
       "      <th></th>\n",
       "      <th></th>\n",
       "      <th></th>\n",
       "      <th></th>\n",
       "      <th></th>\n",
       "      <th></th>\n",
       "      <th></th>\n",
       "    </tr>\n",
       "  </thead>\n",
       "  <tbody>\n",
       "    <tr>\n",
       "      <td>Australia and New Zealand</td>\n",
       "      <td>9.500000</td>\n",
       "      <td>7.285000</td>\n",
       "      <td>0.037270</td>\n",
       "      <td>1.291880</td>\n",
       "      <td>1.314450</td>\n",
       "      <td>0.919965</td>\n",
       "      <td>0.645310</td>\n",
       "      <td>0.392795</td>\n",
       "      <td>0.455315</td>\n",
       "      <td>2.265355</td>\n",
       "    </tr>\n",
       "    <tr>\n",
       "      <td>Central and Eastern Europe</td>\n",
       "      <td>79.000000</td>\n",
       "      <td>5.332931</td>\n",
       "      <td>0.045208</td>\n",
       "      <td>0.942438</td>\n",
       "      <td>1.053042</td>\n",
       "      <td>0.718774</td>\n",
       "      <td>0.358269</td>\n",
       "      <td>0.086674</td>\n",
       "      <td>0.152264</td>\n",
       "      <td>2.021400</td>\n",
       "    </tr>\n",
       "    <tr>\n",
       "      <td>Eastern Asia</td>\n",
       "      <td>64.500000</td>\n",
       "      <td>5.626167</td>\n",
       "      <td>0.037225</td>\n",
       "      <td>1.151780</td>\n",
       "      <td>1.099427</td>\n",
       "      <td>0.877388</td>\n",
       "      <td>0.462490</td>\n",
       "      <td>0.127695</td>\n",
       "      <td>0.225885</td>\n",
       "      <td>1.681607</td>\n",
       "    </tr>\n",
       "    <tr>\n",
       "      <td>Latin America and Caribbean</td>\n",
       "      <td>46.909091</td>\n",
       "      <td>6.144682</td>\n",
       "      <td>0.061127</td>\n",
       "      <td>0.876815</td>\n",
       "      <td>1.104720</td>\n",
       "      <td>0.703870</td>\n",
       "      <td>0.501740</td>\n",
       "      <td>0.117172</td>\n",
       "      <td>0.217788</td>\n",
       "      <td>2.622577</td>\n",
       "    </tr>\n",
       "    <tr>\n",
       "      <td>Middle East and Northern Africa</td>\n",
       "      <td>77.600000</td>\n",
       "      <td>5.406900</td>\n",
       "      <td>0.046337</td>\n",
       "      <td>1.066973</td>\n",
       "      <td>0.920490</td>\n",
       "      <td>0.705616</td>\n",
       "      <td>0.361751</td>\n",
       "      <td>0.181702</td>\n",
       "      <td>0.190375</td>\n",
       "      <td>1.980009</td>\n",
       "    </tr>\n",
       "    <tr>\n",
       "      <td>North America</td>\n",
       "      <td>10.000000</td>\n",
       "      <td>7.273000</td>\n",
       "      <td>0.036960</td>\n",
       "      <td>1.360400</td>\n",
       "      <td>1.284860</td>\n",
       "      <td>0.883710</td>\n",
       "      <td>0.589505</td>\n",
       "      <td>0.244235</td>\n",
       "      <td>0.429580</td>\n",
       "      <td>2.480935</td>\n",
       "    </tr>\n",
       "    <tr>\n",
       "      <td>Southeastern Asia</td>\n",
       "      <td>81.222222</td>\n",
       "      <td>5.317444</td>\n",
       "      <td>0.042691</td>\n",
       "      <td>0.789054</td>\n",
       "      <td>0.940468</td>\n",
       "      <td>0.677357</td>\n",
       "      <td>0.557104</td>\n",
       "      <td>0.151276</td>\n",
       "      <td>0.419261</td>\n",
       "      <td>1.783020</td>\n",
       "    </tr>\n",
       "    <tr>\n",
       "      <td>Southern Asia</td>\n",
       "      <td>113.142857</td>\n",
       "      <td>4.580857</td>\n",
       "      <td>0.032161</td>\n",
       "      <td>0.560486</td>\n",
       "      <td>0.645321</td>\n",
       "      <td>0.540830</td>\n",
       "      <td>0.373337</td>\n",
       "      <td>0.102536</td>\n",
       "      <td>0.341429</td>\n",
       "      <td>2.016769</td>\n",
       "    </tr>\n",
       "    <tr>\n",
       "      <td>Sub-Saharan Africa</td>\n",
       "      <td>127.900000</td>\n",
       "      <td>4.202800</td>\n",
       "      <td>0.055299</td>\n",
       "      <td>0.380473</td>\n",
       "      <td>0.809085</td>\n",
       "      <td>0.282332</td>\n",
       "      <td>0.365944</td>\n",
       "      <td>0.123878</td>\n",
       "      <td>0.221137</td>\n",
       "      <td>2.019980</td>\n",
       "    </tr>\n",
       "    <tr>\n",
       "      <td>Western Europe</td>\n",
       "      <td>29.523810</td>\n",
       "      <td>6.689619</td>\n",
       "      <td>0.037625</td>\n",
       "      <td>1.298596</td>\n",
       "      <td>1.247302</td>\n",
       "      <td>0.909148</td>\n",
       "      <td>0.549926</td>\n",
       "      <td>0.231463</td>\n",
       "      <td>0.302109</td>\n",
       "      <td>2.151185</td>\n",
       "    </tr>\n",
       "  </tbody>\n",
       "</table>\n",
       "</div>"
      ],
      "text/plain": [
       "                                 Happiness Rank  Happiness Score  \\\n",
       "Region                                                             \n",
       "Australia and New Zealand              9.500000         7.285000   \n",
       "Central and Eastern Europe            79.000000         5.332931   \n",
       "Eastern Asia                          64.500000         5.626167   \n",
       "Latin America and Caribbean           46.909091         6.144682   \n",
       "Middle East and Northern Africa       77.600000         5.406900   \n",
       "North America                         10.000000         7.273000   \n",
       "Southeastern Asia                     81.222222         5.317444   \n",
       "Southern Asia                        113.142857         4.580857   \n",
       "Sub-Saharan Africa                   127.900000         4.202800   \n",
       "Western Europe                        29.523810         6.689619   \n",
       "\n",
       "                                 Standard Error  Economy (GDP per Capita)  \\\n",
       "Region                                                                      \n",
       "Australia and New Zealand              0.037270                  1.291880   \n",
       "Central and Eastern Europe             0.045208                  0.942438   \n",
       "Eastern Asia                           0.037225                  1.151780   \n",
       "Latin America and Caribbean            0.061127                  0.876815   \n",
       "Middle East and Northern Africa        0.046337                  1.066973   \n",
       "North America                          0.036960                  1.360400   \n",
       "Southeastern Asia                      0.042691                  0.789054   \n",
       "Southern Asia                          0.032161                  0.560486   \n",
       "Sub-Saharan Africa                     0.055299                  0.380473   \n",
       "Western Europe                         0.037625                  1.298596   \n",
       "\n",
       "                                   Family  Health (Life Expectancy)   Freedom  \\\n",
       "Region                                                                          \n",
       "Australia and New Zealand        1.314450                  0.919965  0.645310   \n",
       "Central and Eastern Europe       1.053042                  0.718774  0.358269   \n",
       "Eastern Asia                     1.099427                  0.877388  0.462490   \n",
       "Latin America and Caribbean      1.104720                  0.703870  0.501740   \n",
       "Middle East and Northern Africa  0.920490                  0.705616  0.361751   \n",
       "North America                    1.284860                  0.883710  0.589505   \n",
       "Southeastern Asia                0.940468                  0.677357  0.557104   \n",
       "Southern Asia                    0.645321                  0.540830  0.373337   \n",
       "Sub-Saharan Africa               0.809085                  0.282332  0.365944   \n",
       "Western Europe                   1.247302                  0.909148  0.549926   \n",
       "\n",
       "                                 Trust (Government Corruption)  Generosity  \\\n",
       "Region                                                                       \n",
       "Australia and New Zealand                             0.392795    0.455315   \n",
       "Central and Eastern Europe                            0.086674    0.152264   \n",
       "Eastern Asia                                          0.127695    0.225885   \n",
       "Latin America and Caribbean                           0.117172    0.217788   \n",
       "Middle East and Northern Africa                       0.181702    0.190375   \n",
       "North America                                         0.244235    0.429580   \n",
       "Southeastern Asia                                     0.151276    0.419261   \n",
       "Southern Asia                                         0.102536    0.341429   \n",
       "Sub-Saharan Africa                                    0.123878    0.221137   \n",
       "Western Europe                                        0.231463    0.302109   \n",
       "\n",
       "                                 Dystopia Residual  \n",
       "Region                                              \n",
       "Australia and New Zealand                 2.265355  \n",
       "Central and Eastern Europe                2.021400  \n",
       "Eastern Asia                              1.681607  \n",
       "Latin America and Caribbean               2.622577  \n",
       "Middle East and Northern Africa           1.980009  \n",
       "North America                             2.480935  \n",
       "Southeastern Asia                         1.783020  \n",
       "Southern Asia                             2.016769  \n",
       "Sub-Saharan Africa                        2.019980  \n",
       "Western Europe                            2.151185  "
      ]
     },
     "execution_count": 10,
     "metadata": {},
     "output_type": "execute_result"
    }
   ],
   "source": [
    "means = grouped.mean()\n",
    "means"
   ]
  },
  {
   "cell_type": "code",
   "execution_count": 11,
   "metadata": {},
   "outputs": [
    {
     "data": {
      "text/plain": [
       "Region\n",
       "Australia and New Zealand          7.285000\n",
       "Central and Eastern Europe         5.332931\n",
       "Eastern Asia                       5.626167\n",
       "Latin America and Caribbean        6.144682\n",
       "Middle East and Northern Africa    5.406900\n",
       "North America                      7.273000\n",
       "Southeastern Asia                  5.317444\n",
       "Southern Asia                      4.580857\n",
       "Sub-Saharan Africa                 4.202800\n",
       "Western Europe                     6.689619\n",
       "Name: Happiness Score, dtype: float64"
      ]
     },
     "execution_count": 11,
     "metadata": {},
     "output_type": "execute_result"
    }
   ],
   "source": [
    "happy_grouped = grouped[\"Happiness Score\"]\n",
    "happy_mean = happy_grouped.mean()\n",
    "happy_mean"
   ]
  },
  {
   "cell_type": "code",
   "execution_count": 12,
   "metadata": {},
   "outputs": [
    {
     "data": {
      "text/html": [
       "<div>\n",
       "<style scoped>\n",
       "    .dataframe tbody tr th:only-of-type {\n",
       "        vertical-align: middle;\n",
       "    }\n",
       "\n",
       "    .dataframe tbody tr th {\n",
       "        vertical-align: top;\n",
       "    }\n",
       "\n",
       "    .dataframe thead tr th {\n",
       "        text-align: left;\n",
       "    }\n",
       "\n",
       "    .dataframe thead tr:last-of-type th {\n",
       "        text-align: right;\n",
       "    }\n",
       "</style>\n",
       "<table border=\"1\" class=\"dataframe\">\n",
       "  <thead>\n",
       "    <tr>\n",
       "      <th></th>\n",
       "      <th colspan=\"2\" halign=\"left\">Happiness Rank</th>\n",
       "      <th colspan=\"2\" halign=\"left\">Happiness Score</th>\n",
       "      <th colspan=\"2\" halign=\"left\">Standard Error</th>\n",
       "      <th colspan=\"2\" halign=\"left\">Economy (GDP per Capita)</th>\n",
       "      <th colspan=\"2\" halign=\"left\">Family</th>\n",
       "      <th colspan=\"2\" halign=\"left\">Health (Life Expectancy)</th>\n",
       "      <th colspan=\"2\" halign=\"left\">Freedom</th>\n",
       "      <th colspan=\"2\" halign=\"left\">Trust (Government Corruption)</th>\n",
       "      <th colspan=\"2\" halign=\"left\">Generosity</th>\n",
       "      <th colspan=\"2\" halign=\"left\">Dystopia Residual</th>\n",
       "    </tr>\n",
       "    <tr>\n",
       "      <th></th>\n",
       "      <th>mean</th>\n",
       "      <th>amax</th>\n",
       "      <th>mean</th>\n",
       "      <th>amax</th>\n",
       "      <th>mean</th>\n",
       "      <th>amax</th>\n",
       "      <th>mean</th>\n",
       "      <th>amax</th>\n",
       "      <th>mean</th>\n",
       "      <th>amax</th>\n",
       "      <th>mean</th>\n",
       "      <th>amax</th>\n",
       "      <th>mean</th>\n",
       "      <th>amax</th>\n",
       "      <th>mean</th>\n",
       "      <th>amax</th>\n",
       "      <th>mean</th>\n",
       "      <th>amax</th>\n",
       "      <th>mean</th>\n",
       "      <th>amax</th>\n",
       "    </tr>\n",
       "    <tr>\n",
       "      <th>Region</th>\n",
       "      <th></th>\n",
       "      <th></th>\n",
       "      <th></th>\n",
       "      <th></th>\n",
       "      <th></th>\n",
       "      <th></th>\n",
       "      <th></th>\n",
       "      <th></th>\n",
       "      <th></th>\n",
       "      <th></th>\n",
       "      <th></th>\n",
       "      <th></th>\n",
       "      <th></th>\n",
       "      <th></th>\n",
       "      <th></th>\n",
       "      <th></th>\n",
       "      <th></th>\n",
       "      <th></th>\n",
       "      <th></th>\n",
       "      <th></th>\n",
       "    </tr>\n",
       "  </thead>\n",
       "  <tbody>\n",
       "    <tr>\n",
       "      <td>Australia and New Zealand</td>\n",
       "      <td>9.500000</td>\n",
       "      <td>10</td>\n",
       "      <td>7.285000</td>\n",
       "      <td>7.286</td>\n",
       "      <td>0.037270</td>\n",
       "      <td>0.04083</td>\n",
       "      <td>1.291880</td>\n",
       "      <td>1.33358</td>\n",
       "      <td>1.314450</td>\n",
       "      <td>1.31967</td>\n",
       "      <td>0.919965</td>\n",
       "      <td>0.93156</td>\n",
       "      <td>0.645310</td>\n",
       "      <td>0.65124</td>\n",
       "      <td>0.392795</td>\n",
       "      <td>0.42922</td>\n",
       "      <td>0.455315</td>\n",
       "      <td>0.47501</td>\n",
       "      <td>2.265355</td>\n",
       "      <td>2.26646</td>\n",
       "    </tr>\n",
       "    <tr>\n",
       "      <td>Central and Eastern Europe</td>\n",
       "      <td>79.000000</td>\n",
       "      <td>134</td>\n",
       "      <td>5.332931</td>\n",
       "      <td>6.505</td>\n",
       "      <td>0.045208</td>\n",
       "      <td>0.06913</td>\n",
       "      <td>0.942438</td>\n",
       "      <td>1.18498</td>\n",
       "      <td>1.053042</td>\n",
       "      <td>1.34043</td>\n",
       "      <td>0.718774</td>\n",
       "      <td>0.87337</td>\n",
       "      <td>0.358269</td>\n",
       "      <td>0.65821</td>\n",
       "      <td>0.086674</td>\n",
       "      <td>0.38331</td>\n",
       "      <td>0.152264</td>\n",
       "      <td>0.30030</td>\n",
       "      <td>2.021400</td>\n",
       "      <td>3.10712</td>\n",
       "    </tr>\n",
       "    <tr>\n",
       "      <td>Eastern Asia</td>\n",
       "      <td>64.500000</td>\n",
       "      <td>100</td>\n",
       "      <td>5.626167</td>\n",
       "      <td>6.298</td>\n",
       "      <td>0.037225</td>\n",
       "      <td>0.05051</td>\n",
       "      <td>1.151780</td>\n",
       "      <td>1.38604</td>\n",
       "      <td>1.099427</td>\n",
       "      <td>1.30060</td>\n",
       "      <td>0.877388</td>\n",
       "      <td>1.01328</td>\n",
       "      <td>0.462490</td>\n",
       "      <td>0.59608</td>\n",
       "      <td>0.127695</td>\n",
       "      <td>0.37124</td>\n",
       "      <td>0.225885</td>\n",
       "      <td>0.39478</td>\n",
       "      <td>1.681607</td>\n",
       "      <td>2.32323</td>\n",
       "    </tr>\n",
       "    <tr>\n",
       "      <td>Latin America and Caribbean</td>\n",
       "      <td>46.909091</td>\n",
       "      <td>119</td>\n",
       "      <td>6.144682</td>\n",
       "      <td>7.226</td>\n",
       "      <td>0.061127</td>\n",
       "      <td>0.13693</td>\n",
       "      <td>0.876815</td>\n",
       "      <td>1.21183</td>\n",
       "      <td>1.104720</td>\n",
       "      <td>1.30477</td>\n",
       "      <td>0.703870</td>\n",
       "      <td>0.86027</td>\n",
       "      <td>0.501740</td>\n",
       "      <td>0.63376</td>\n",
       "      <td>0.117172</td>\n",
       "      <td>0.24558</td>\n",
       "      <td>0.217788</td>\n",
       "      <td>0.46187</td>\n",
       "      <td>2.622577</td>\n",
       "      <td>3.60214</td>\n",
       "    </tr>\n",
       "    <tr>\n",
       "      <td>Middle East and Northern Africa</td>\n",
       "      <td>77.600000</td>\n",
       "      <td>156</td>\n",
       "      <td>5.406900</td>\n",
       "      <td>7.278</td>\n",
       "      <td>0.046337</td>\n",
       "      <td>0.07832</td>\n",
       "      <td>1.066973</td>\n",
       "      <td>1.69042</td>\n",
       "      <td>0.920490</td>\n",
       "      <td>1.22393</td>\n",
       "      <td>0.705616</td>\n",
       "      <td>0.91387</td>\n",
       "      <td>0.361751</td>\n",
       "      <td>0.64157</td>\n",
       "      <td>0.181702</td>\n",
       "      <td>0.52208</td>\n",
       "      <td>0.190375</td>\n",
       "      <td>0.47179</td>\n",
       "      <td>1.980009</td>\n",
       "      <td>3.08854</td>\n",
       "    </tr>\n",
       "    <tr>\n",
       "      <td>North America</td>\n",
       "      <td>10.000000</td>\n",
       "      <td>15</td>\n",
       "      <td>7.273000</td>\n",
       "      <td>7.427</td>\n",
       "      <td>0.036960</td>\n",
       "      <td>0.03839</td>\n",
       "      <td>1.360400</td>\n",
       "      <td>1.39451</td>\n",
       "      <td>1.284860</td>\n",
       "      <td>1.32261</td>\n",
       "      <td>0.883710</td>\n",
       "      <td>0.90563</td>\n",
       "      <td>0.589505</td>\n",
       "      <td>0.63297</td>\n",
       "      <td>0.244235</td>\n",
       "      <td>0.32957</td>\n",
       "      <td>0.429580</td>\n",
       "      <td>0.45811</td>\n",
       "      <td>2.480935</td>\n",
       "      <td>2.51011</td>\n",
       "    </tr>\n",
       "    <tr>\n",
       "      <td>Southeastern Asia</td>\n",
       "      <td>81.222222</td>\n",
       "      <td>145</td>\n",
       "      <td>5.317444</td>\n",
       "      <td>6.798</td>\n",
       "      <td>0.042691</td>\n",
       "      <td>0.06698</td>\n",
       "      <td>0.789054</td>\n",
       "      <td>1.52186</td>\n",
       "      <td>0.940468</td>\n",
       "      <td>1.26504</td>\n",
       "      <td>0.677357</td>\n",
       "      <td>1.02525</td>\n",
       "      <td>0.557104</td>\n",
       "      <td>0.66246</td>\n",
       "      <td>0.151276</td>\n",
       "      <td>0.49210</td>\n",
       "      <td>0.419261</td>\n",
       "      <td>0.79588</td>\n",
       "      <td>1.783020</td>\n",
       "      <td>2.31945</td>\n",
       "    </tr>\n",
       "    <tr>\n",
       "      <td>Southern Asia</td>\n",
       "      <td>113.142857</td>\n",
       "      <td>153</td>\n",
       "      <td>4.580857</td>\n",
       "      <td>5.253</td>\n",
       "      <td>0.032161</td>\n",
       "      <td>0.03751</td>\n",
       "      <td>0.560486</td>\n",
       "      <td>0.83524</td>\n",
       "      <td>0.645321</td>\n",
       "      <td>1.10395</td>\n",
       "      <td>0.540830</td>\n",
       "      <td>0.70806</td>\n",
       "      <td>0.373337</td>\n",
       "      <td>0.53726</td>\n",
       "      <td>0.102536</td>\n",
       "      <td>0.15445</td>\n",
       "      <td>0.341429</td>\n",
       "      <td>0.47998</td>\n",
       "      <td>2.016769</td>\n",
       "      <td>3.10709</td>\n",
       "    </tr>\n",
       "    <tr>\n",
       "      <td>Sub-Saharan Africa</td>\n",
       "      <td>127.900000</td>\n",
       "      <td>158</td>\n",
       "      <td>4.202800</td>\n",
       "      <td>5.477</td>\n",
       "      <td>0.055299</td>\n",
       "      <td>0.11068</td>\n",
       "      <td>0.380473</td>\n",
       "      <td>1.06024</td>\n",
       "      <td>0.809085</td>\n",
       "      <td>1.18468</td>\n",
       "      <td>0.282332</td>\n",
       "      <td>0.70950</td>\n",
       "      <td>0.365944</td>\n",
       "      <td>0.59201</td>\n",
       "      <td>0.123878</td>\n",
       "      <td>0.55191</td>\n",
       "      <td>0.221137</td>\n",
       "      <td>0.50318</td>\n",
       "      <td>2.019980</td>\n",
       "      <td>3.05137</td>\n",
       "    </tr>\n",
       "    <tr>\n",
       "      <td>Western Europe</td>\n",
       "      <td>29.523810</td>\n",
       "      <td>102</td>\n",
       "      <td>6.689619</td>\n",
       "      <td>7.587</td>\n",
       "      <td>0.037625</td>\n",
       "      <td>0.05635</td>\n",
       "      <td>1.298596</td>\n",
       "      <td>1.56391</td>\n",
       "      <td>1.247302</td>\n",
       "      <td>1.40223</td>\n",
       "      <td>0.909148</td>\n",
       "      <td>0.95562</td>\n",
       "      <td>0.549926</td>\n",
       "      <td>0.66973</td>\n",
       "      <td>0.231463</td>\n",
       "      <td>0.48357</td>\n",
       "      <td>0.302109</td>\n",
       "      <td>0.51912</td>\n",
       "      <td>2.151185</td>\n",
       "      <td>2.70201</td>\n",
       "    </tr>\n",
       "  </tbody>\n",
       "</table>\n",
       "</div>"
      ],
      "text/plain": [
       "                                Happiness Rank      Happiness Score         \\\n",
       "                                          mean amax            mean   amax   \n",
       "Region                                                                       \n",
       "Australia and New Zealand             9.500000   10        7.285000  7.286   \n",
       "Central and Eastern Europe           79.000000  134        5.332931  6.505   \n",
       "Eastern Asia                         64.500000  100        5.626167  6.298   \n",
       "Latin America and Caribbean          46.909091  119        6.144682  7.226   \n",
       "Middle East and Northern Africa      77.600000  156        5.406900  7.278   \n",
       "North America                        10.000000   15        7.273000  7.427   \n",
       "Southeastern Asia                    81.222222  145        5.317444  6.798   \n",
       "Southern Asia                       113.142857  153        4.580857  5.253   \n",
       "Sub-Saharan Africa                  127.900000  158        4.202800  5.477   \n",
       "Western Europe                       29.523810  102        6.689619  7.587   \n",
       "\n",
       "                                Standard Error           \\\n",
       "                                          mean     amax   \n",
       "Region                                                    \n",
       "Australia and New Zealand             0.037270  0.04083   \n",
       "Central and Eastern Europe            0.045208  0.06913   \n",
       "Eastern Asia                          0.037225  0.05051   \n",
       "Latin America and Caribbean           0.061127  0.13693   \n",
       "Middle East and Northern Africa       0.046337  0.07832   \n",
       "North America                         0.036960  0.03839   \n",
       "Southeastern Asia                     0.042691  0.06698   \n",
       "Southern Asia                         0.032161  0.03751   \n",
       "Sub-Saharan Africa                    0.055299  0.11068   \n",
       "Western Europe                        0.037625  0.05635   \n",
       "\n",
       "                                Economy (GDP per Capita)             Family  \\\n",
       "                                                    mean     amax      mean   \n",
       "Region                                                                        \n",
       "Australia and New Zealand                       1.291880  1.33358  1.314450   \n",
       "Central and Eastern Europe                      0.942438  1.18498  1.053042   \n",
       "Eastern Asia                                    1.151780  1.38604  1.099427   \n",
       "Latin America and Caribbean                     0.876815  1.21183  1.104720   \n",
       "Middle East and Northern Africa                 1.066973  1.69042  0.920490   \n",
       "North America                                   1.360400  1.39451  1.284860   \n",
       "Southeastern Asia                               0.789054  1.52186  0.940468   \n",
       "Southern Asia                                   0.560486  0.83524  0.645321   \n",
       "Sub-Saharan Africa                              0.380473  1.06024  0.809085   \n",
       "Western Europe                                  1.298596  1.56391  1.247302   \n",
       "\n",
       "                                         Health (Life Expectancy)           \\\n",
       "                                    amax                     mean     amax   \n",
       "Region                                                                       \n",
       "Australia and New Zealand        1.31967                 0.919965  0.93156   \n",
       "Central and Eastern Europe       1.34043                 0.718774  0.87337   \n",
       "Eastern Asia                     1.30060                 0.877388  1.01328   \n",
       "Latin America and Caribbean      1.30477                 0.703870  0.86027   \n",
       "Middle East and Northern Africa  1.22393                 0.705616  0.91387   \n",
       "North America                    1.32261                 0.883710  0.90563   \n",
       "Southeastern Asia                1.26504                 0.677357  1.02525   \n",
       "Southern Asia                    1.10395                 0.540830  0.70806   \n",
       "Sub-Saharan Africa               1.18468                 0.282332  0.70950   \n",
       "Western Europe                   1.40223                 0.909148  0.95562   \n",
       "\n",
       "                                  Freedom           \\\n",
       "                                     mean     amax   \n",
       "Region                                               \n",
       "Australia and New Zealand        0.645310  0.65124   \n",
       "Central and Eastern Europe       0.358269  0.65821   \n",
       "Eastern Asia                     0.462490  0.59608   \n",
       "Latin America and Caribbean      0.501740  0.63376   \n",
       "Middle East and Northern Africa  0.361751  0.64157   \n",
       "North America                    0.589505  0.63297   \n",
       "Southeastern Asia                0.557104  0.66246   \n",
       "Southern Asia                    0.373337  0.53726   \n",
       "Sub-Saharan Africa               0.365944  0.59201   \n",
       "Western Europe                   0.549926  0.66973   \n",
       "\n",
       "                                Trust (Government Corruption)           \\\n",
       "                                                         mean     amax   \n",
       "Region                                                                   \n",
       "Australia and New Zealand                            0.392795  0.42922   \n",
       "Central and Eastern Europe                           0.086674  0.38331   \n",
       "Eastern Asia                                         0.127695  0.37124   \n",
       "Latin America and Caribbean                          0.117172  0.24558   \n",
       "Middle East and Northern Africa                      0.181702  0.52208   \n",
       "North America                                        0.244235  0.32957   \n",
       "Southeastern Asia                                    0.151276  0.49210   \n",
       "Southern Asia                                        0.102536  0.15445   \n",
       "Sub-Saharan Africa                                   0.123878  0.55191   \n",
       "Western Europe                                       0.231463  0.48357   \n",
       "\n",
       "                                Generosity          Dystopia Residual           \n",
       "                                      mean     amax              mean     amax  \n",
       "Region                                                                          \n",
       "Australia and New Zealand         0.455315  0.47501          2.265355  2.26646  \n",
       "Central and Eastern Europe        0.152264  0.30030          2.021400  3.10712  \n",
       "Eastern Asia                      0.225885  0.39478          1.681607  2.32323  \n",
       "Latin America and Caribbean       0.217788  0.46187          2.622577  3.60214  \n",
       "Middle East and Northern Africa   0.190375  0.47179          1.980009  3.08854  \n",
       "North America                     0.429580  0.45811          2.480935  2.51011  \n",
       "Southeastern Asia                 0.419261  0.79588          1.783020  2.31945  \n",
       "Southern Asia                     0.341429  0.47998          2.016769  3.10709  \n",
       "Sub-Saharan Africa                0.221137  0.50318          2.019980  3.05137  \n",
       "Western Europe                    0.302109  0.51912          2.151185  2.70201  "
      ]
     },
     "execution_count": 12,
     "metadata": {},
     "output_type": "execute_result"
    }
   ],
   "source": [
    "happy_mean_max = grouped.agg([np.mean, np.max])\n",
    "happy_mean_max"
   ]
  },
  {
   "cell_type": "code",
   "execution_count": 13,
   "metadata": {},
   "outputs": [
    {
     "data": {
      "text/html": [
       "<div>\n",
       "<style scoped>\n",
       "    .dataframe tbody tr th:only-of-type {\n",
       "        vertical-align: middle;\n",
       "    }\n",
       "\n",
       "    .dataframe tbody tr th {\n",
       "        vertical-align: top;\n",
       "    }\n",
       "\n",
       "    .dataframe thead th {\n",
       "        text-align: right;\n",
       "    }\n",
       "</style>\n",
       "<table border=\"1\" class=\"dataframe\">\n",
       "  <thead>\n",
       "    <tr style=\"text-align: right;\">\n",
       "      <th></th>\n",
       "      <th>mean</th>\n",
       "      <th>amax</th>\n",
       "    </tr>\n",
       "    <tr>\n",
       "      <th>Region</th>\n",
       "      <th></th>\n",
       "      <th></th>\n",
       "    </tr>\n",
       "  </thead>\n",
       "  <tbody>\n",
       "    <tr>\n",
       "      <td>Australia and New Zealand</td>\n",
       "      <td>9.500000</td>\n",
       "      <td>10</td>\n",
       "    </tr>\n",
       "    <tr>\n",
       "      <td>Central and Eastern Europe</td>\n",
       "      <td>79.000000</td>\n",
       "      <td>134</td>\n",
       "    </tr>\n",
       "    <tr>\n",
       "      <td>Eastern Asia</td>\n",
       "      <td>64.500000</td>\n",
       "      <td>100</td>\n",
       "    </tr>\n",
       "    <tr>\n",
       "      <td>Latin America and Caribbean</td>\n",
       "      <td>46.909091</td>\n",
       "      <td>119</td>\n",
       "    </tr>\n",
       "    <tr>\n",
       "      <td>Middle East and Northern Africa</td>\n",
       "      <td>77.600000</td>\n",
       "      <td>156</td>\n",
       "    </tr>\n",
       "    <tr>\n",
       "      <td>North America</td>\n",
       "      <td>10.000000</td>\n",
       "      <td>15</td>\n",
       "    </tr>\n",
       "    <tr>\n",
       "      <td>Southeastern Asia</td>\n",
       "      <td>81.222222</td>\n",
       "      <td>145</td>\n",
       "    </tr>\n",
       "    <tr>\n",
       "      <td>Southern Asia</td>\n",
       "      <td>113.142857</td>\n",
       "      <td>153</td>\n",
       "    </tr>\n",
       "    <tr>\n",
       "      <td>Sub-Saharan Africa</td>\n",
       "      <td>127.900000</td>\n",
       "      <td>158</td>\n",
       "    </tr>\n",
       "    <tr>\n",
       "      <td>Western Europe</td>\n",
       "      <td>29.523810</td>\n",
       "      <td>102</td>\n",
       "    </tr>\n",
       "  </tbody>\n",
       "</table>\n",
       "</div>"
      ],
      "text/plain": [
       "                                       mean  amax\n",
       "Region                                           \n",
       "Australia and New Zealand          9.500000    10\n",
       "Central and Eastern Europe        79.000000   134\n",
       "Eastern Asia                      64.500000   100\n",
       "Latin America and Caribbean       46.909091   119\n",
       "Middle East and Northern Africa   77.600000   156\n",
       "North America                     10.000000    15\n",
       "Southeastern Asia                 81.222222   145\n",
       "Southern Asia                    113.142857   153\n",
       "Sub-Saharan Africa               127.900000   158\n",
       "Western Europe                    29.523810   102"
      ]
     },
     "execution_count": 13,
     "metadata": {},
     "output_type": "execute_result"
    }
   ],
   "source": [
    "hap_rank = grouped[\"Happiness Rank\"].agg([np.mean, np.max])\n",
    "hap_rank"
   ]
  },
  {
   "cell_type": "code",
   "execution_count": 14,
   "metadata": {},
   "outputs": [
    {
     "data": {
      "text/plain": [
       "<matplotlib.axes._subplots.AxesSubplot at 0x25a44d848c8>"
      ]
     },
     "execution_count": 14,
     "metadata": {},
     "output_type": "execute_result"
    },
    {
     "data": {
      "image/png": "[encoded data removed]",
      "text/plain": [
       "<Figure size 432x288 with 1 Axes>"
      ]
     },
     "metadata": {
      "needs_background": "light"
     },
     "output_type": "display_data"
    }
   ],
   "source": [
    "pv_hap = happiness2015.pivot_table(values= [\"Happiness Score\", \"Happiness Rank\"], index = \"Region\", margins = True)\n",
    "pv_hap.plot(kind=\"bar\", legend=True, title = \"Mean Happiness Score by Region\", xlim=(0,10))"
   ]
  },
  {
   "cell_type": "code",
   "execution_count": 15,
   "metadata": {},
   "outputs": [],
   "source": [
    "happy_family_stat = happiness2015.groupby(\"Region\")[[\"Happiness Score\", \"Family\"]].agg([np.mean, np.max, np.min])\n",
    "pv_happy_family_stat = happiness2015.pivot_table(values=[\"Happiness Score\", \"Family\"], index=\"Region\", aggfunc=([np.mean, np.max, np.min]), margins=True)"
   ]
  },
  {
   "cell_type": "code",
   "execution_count": 16,
   "metadata": {},
   "outputs": [
    {
     "data": {
      "text/html": [
       "<div>\n",
       "<style scoped>\n",
       "    .dataframe tbody tr th:only-of-type {\n",
       "        vertical-align: middle;\n",
       "    }\n",
       "\n",
       "    .dataframe tbody tr th {\n",
       "        vertical-align: top;\n",
       "    }\n",
       "\n",
       "    .dataframe thead tr th {\n",
       "        text-align: left;\n",
       "    }\n",
       "\n",
       "    .dataframe thead tr:last-of-type th {\n",
       "        text-align: right;\n",
       "    }\n",
       "</style>\n",
       "<table border=\"1\" class=\"dataframe\">\n",
       "  <thead>\n",
       "    <tr>\n",
       "      <th></th>\n",
       "      <th colspan=\"3\" halign=\"left\">Happiness Score</th>\n",
       "      <th colspan=\"3\" halign=\"left\">Family</th>\n",
       "    </tr>\n",
       "    <tr>\n",
       "      <th></th>\n",
       "      <th>mean</th>\n",
       "      <th>amax</th>\n",
       "      <th>amin</th>\n",
       "      <th>mean</th>\n",
       "      <th>amax</th>\n",
       "      <th>amin</th>\n",
       "    </tr>\n",
       "    <tr>\n",
       "      <th>Region</th>\n",
       "      <th></th>\n",
       "      <th></th>\n",
       "      <th></th>\n",
       "      <th></th>\n",
       "      <th></th>\n",
       "      <th></th>\n",
       "    </tr>\n",
       "  </thead>\n",
       "  <tbody>\n",
       "    <tr>\n",
       "      <td>Australia and New Zealand</td>\n",
       "      <td>7.285000</td>\n",
       "      <td>7.286</td>\n",
       "      <td>7.284</td>\n",
       "      <td>1.314450</td>\n",
       "      <td>1.31967</td>\n",
       "      <td>1.30923</td>\n",
       "    </tr>\n",
       "    <tr>\n",
       "      <td>Central and Eastern Europe</td>\n",
       "      <td>5.332931</td>\n",
       "      <td>6.505</td>\n",
       "      <td>4.218</td>\n",
       "      <td>1.053042</td>\n",
       "      <td>1.34043</td>\n",
       "      <td>0.38562</td>\n",
       "    </tr>\n",
       "    <tr>\n",
       "      <td>Eastern Asia</td>\n",
       "      <td>5.626167</td>\n",
       "      <td>6.298</td>\n",
       "      <td>4.874</td>\n",
       "      <td>1.099427</td>\n",
       "      <td>1.30060</td>\n",
       "      <td>0.94675</td>\n",
       "    </tr>\n",
       "    <tr>\n",
       "      <td>Latin America and Caribbean</td>\n",
       "      <td>6.144682</td>\n",
       "      <td>7.226</td>\n",
       "      <td>4.518</td>\n",
       "      <td>1.104720</td>\n",
       "      <td>1.30477</td>\n",
       "      <td>0.74302</td>\n",
       "    </tr>\n",
       "    <tr>\n",
       "      <td>Middle East and Northern Africa</td>\n",
       "      <td>5.406900</td>\n",
       "      <td>7.278</td>\n",
       "      <td>3.006</td>\n",
       "      <td>0.920490</td>\n",
       "      <td>1.22393</td>\n",
       "      <td>0.47489</td>\n",
       "    </tr>\n",
       "    <tr>\n",
       "      <td>North America</td>\n",
       "      <td>7.273000</td>\n",
       "      <td>7.427</td>\n",
       "      <td>7.119</td>\n",
       "      <td>1.284860</td>\n",
       "      <td>1.32261</td>\n",
       "      <td>1.24711</td>\n",
       "    </tr>\n",
       "    <tr>\n",
       "      <td>Southeastern Asia</td>\n",
       "      <td>5.317444</td>\n",
       "      <td>6.798</td>\n",
       "      <td>3.819</td>\n",
       "      <td>0.940468</td>\n",
       "      <td>1.26504</td>\n",
       "      <td>0.62736</td>\n",
       "    </tr>\n",
       "    <tr>\n",
       "      <td>Southern Asia</td>\n",
       "      <td>4.580857</td>\n",
       "      <td>5.253</td>\n",
       "      <td>3.575</td>\n",
       "      <td>0.645321</td>\n",
       "      <td>1.10395</td>\n",
       "      <td>0.30285</td>\n",
       "    </tr>\n",
       "    <tr>\n",
       "      <td>Sub-Saharan Africa</td>\n",
       "      <td>4.202800</td>\n",
       "      <td>5.477</td>\n",
       "      <td>2.839</td>\n",
       "      <td>0.809085</td>\n",
       "      <td>1.18468</td>\n",
       "      <td>0.00000</td>\n",
       "    </tr>\n",
       "    <tr>\n",
       "      <td>Western Europe</td>\n",
       "      <td>6.689619</td>\n",
       "      <td>7.587</td>\n",
       "      <td>4.857</td>\n",
       "      <td>1.247302</td>\n",
       "      <td>1.40223</td>\n",
       "      <td>0.89318</td>\n",
       "    </tr>\n",
       "  </tbody>\n",
       "</table>\n",
       "</div>"
      ],
      "text/plain": [
       "                                Happiness Score                  Family  \\\n",
       "                                           mean   amax   amin      mean   \n",
       "Region                                                                    \n",
       "Australia and New Zealand              7.285000  7.286  7.284  1.314450   \n",
       "Central and Eastern Europe             5.332931  6.505  4.218  1.053042   \n",
       "Eastern Asia                           5.626167  6.298  4.874  1.099427   \n",
       "Latin America and Caribbean            6.144682  7.226  4.518  1.104720   \n",
       "Middle East and Northern Africa        5.406900  7.278  3.006  0.920490   \n",
       "North America                          7.273000  7.427  7.119  1.284860   \n",
       "Southeastern Asia                      5.317444  6.798  3.819  0.940468   \n",
       "Southern Asia                          4.580857  5.253  3.575  0.645321   \n",
       "Sub-Saharan Africa                     4.202800  5.477  2.839  0.809085   \n",
       "Western Europe                         6.689619  7.587  4.857  1.247302   \n",
       "\n",
       "                                                   \n",
       "                                    amax     amin  \n",
       "Region                                             \n",
       "Australia and New Zealand        1.31967  1.30923  \n",
       "Central and Eastern Europe       1.34043  0.38562  \n",
       "Eastern Asia                     1.30060  0.94675  \n",
       "Latin America and Caribbean      1.30477  0.74302  \n",
       "Middle East and Northern Africa  1.22393  0.47489  \n",
       "North America                    1.32261  1.24711  \n",
       "Southeastern Asia                1.26504  0.62736  \n",
       "Southern Asia                    1.10395  0.30285  \n",
       "Sub-Saharan Africa               1.18468  0.00000  \n",
       "Western Europe                   1.40223  0.89318  "
      ]
     },
     "execution_count": 16,
     "metadata": {},
     "output_type": "execute_result"
    }
   ],
   "source": [
    "happy_family_stat"
   ]
  },
  {
   "cell_type": "code",
   "execution_count": 17,
   "metadata": {},
   "outputs": [
    {
     "data": {
      "text/html": [
       "<div>\n",
       "<style scoped>\n",
       "    .dataframe tbody tr th:only-of-type {\n",
       "        vertical-align: middle;\n",
       "    }\n",
       "\n",
       "    .dataframe tbody tr th {\n",
       "        vertical-align: top;\n",
       "    }\n",
       "\n",
       "    .dataframe thead tr th {\n",
       "        text-align: left;\n",
       "    }\n",
       "\n",
       "    .dataframe thead tr:last-of-type th {\n",
       "        text-align: right;\n",
       "    }\n",
       "</style>\n",
       "<table border=\"1\" class=\"dataframe\">\n",
       "  <thead>\n",
       "    <tr>\n",
       "      <th></th>\n",
       "      <th colspan=\"2\" halign=\"left\">mean</th>\n",
       "      <th colspan=\"2\" halign=\"left\">amax</th>\n",
       "      <th colspan=\"2\" halign=\"left\">amin</th>\n",
       "    </tr>\n",
       "    <tr>\n",
       "      <th></th>\n",
       "      <th>Family</th>\n",
       "      <th>Happiness Score</th>\n",
       "      <th>Family</th>\n",
       "      <th>Happiness Score</th>\n",
       "      <th>Family</th>\n",
       "      <th>Happiness Score</th>\n",
       "    </tr>\n",
       "    <tr>\n",
       "      <th>Region</th>\n",
       "      <th></th>\n",
       "      <th></th>\n",
       "      <th></th>\n",
       "      <th></th>\n",
       "      <th></th>\n",
       "      <th></th>\n",
       "    </tr>\n",
       "  </thead>\n",
       "  <tbody>\n",
       "    <tr>\n",
       "      <td>Australia and New Zealand</td>\n",
       "      <td>1.314450</td>\n",
       "      <td>7.285000</td>\n",
       "      <td>1.31967</td>\n",
       "      <td>7.286</td>\n",
       "      <td>1.30923</td>\n",
       "      <td>7.284</td>\n",
       "    </tr>\n",
       "    <tr>\n",
       "      <td>Central and Eastern Europe</td>\n",
       "      <td>1.053042</td>\n",
       "      <td>5.332931</td>\n",
       "      <td>1.34043</td>\n",
       "      <td>6.505</td>\n",
       "      <td>0.38562</td>\n",
       "      <td>4.218</td>\n",
       "    </tr>\n",
       "    <tr>\n",
       "      <td>Eastern Asia</td>\n",
       "      <td>1.099427</td>\n",
       "      <td>5.626167</td>\n",
       "      <td>1.30060</td>\n",
       "      <td>6.298</td>\n",
       "      <td>0.94675</td>\n",
       "      <td>4.874</td>\n",
       "    </tr>\n",
       "    <tr>\n",
       "      <td>Latin America and Caribbean</td>\n",
       "      <td>1.104720</td>\n",
       "      <td>6.144682</td>\n",
       "      <td>1.30477</td>\n",
       "      <td>7.226</td>\n",
       "      <td>0.74302</td>\n",
       "      <td>4.518</td>\n",
       "    </tr>\n",
       "    <tr>\n",
       "      <td>Middle East and Northern Africa</td>\n",
       "      <td>0.920490</td>\n",
       "      <td>5.406900</td>\n",
       "      <td>1.22393</td>\n",
       "      <td>7.278</td>\n",
       "      <td>0.47489</td>\n",
       "      <td>3.006</td>\n",
       "    </tr>\n",
       "    <tr>\n",
       "      <td>North America</td>\n",
       "      <td>1.284860</td>\n",
       "      <td>7.273000</td>\n",
       "      <td>1.32261</td>\n",
       "      <td>7.427</td>\n",
       "      <td>1.24711</td>\n",
       "      <td>7.119</td>\n",
       "    </tr>\n",
       "    <tr>\n",
       "      <td>Southeastern Asia</td>\n",
       "      <td>0.940468</td>\n",
       "      <td>5.317444</td>\n",
       "      <td>1.26504</td>\n",
       "      <td>6.798</td>\n",
       "      <td>0.62736</td>\n",
       "      <td>3.819</td>\n",
       "    </tr>\n",
       "    <tr>\n",
       "      <td>Southern Asia</td>\n",
       "      <td>0.645321</td>\n",
       "      <td>4.580857</td>\n",
       "      <td>1.10395</td>\n",
       "      <td>5.253</td>\n",
       "      <td>0.30285</td>\n",
       "      <td>3.575</td>\n",
       "    </tr>\n",
       "    <tr>\n",
       "      <td>Sub-Saharan Africa</td>\n",
       "      <td>0.809085</td>\n",
       "      <td>4.202800</td>\n",
       "      <td>1.18468</td>\n",
       "      <td>5.477</td>\n",
       "      <td>0.00000</td>\n",
       "      <td>2.839</td>\n",
       "    </tr>\n",
       "    <tr>\n",
       "      <td>Western Europe</td>\n",
       "      <td>1.247302</td>\n",
       "      <td>6.689619</td>\n",
       "      <td>1.40223</td>\n",
       "      <td>7.587</td>\n",
       "      <td>0.89318</td>\n",
       "      <td>4.857</td>\n",
       "    </tr>\n",
       "    <tr>\n",
       "      <td>All</td>\n",
       "      <td>0.991046</td>\n",
       "      <td>5.375734</td>\n",
       "      <td>1.40223</td>\n",
       "      <td>7.587</td>\n",
       "      <td>0.00000</td>\n",
       "      <td>2.839</td>\n",
       "    </tr>\n",
       "  </tbody>\n",
       "</table>\n",
       "</div>"
      ],
      "text/plain": [
       "                                     mean                     amax  \\\n",
       "                                   Family Happiness Score   Family   \n",
       "Region                                                               \n",
       "Australia and New Zealand        1.314450        7.285000  1.31967   \n",
       "Central and Eastern Europe       1.053042        5.332931  1.34043   \n",
       "Eastern Asia                     1.099427        5.626167  1.30060   \n",
       "Latin America and Caribbean      1.104720        6.144682  1.30477   \n",
       "Middle East and Northern Africa  0.920490        5.406900  1.22393   \n",
       "North America                    1.284860        7.273000  1.32261   \n",
       "Southeastern Asia                0.940468        5.317444  1.26504   \n",
       "Southern Asia                    0.645321        4.580857  1.10395   \n",
       "Sub-Saharan Africa               0.809085        4.202800  1.18468   \n",
       "Western Europe                   1.247302        6.689619  1.40223   \n",
       "All                              0.991046        5.375734  1.40223   \n",
       "\n",
       "                                                    amin                  \n",
       "                                Happiness Score   Family Happiness Score  \n",
       "Region                                                                    \n",
       "Australia and New Zealand                 7.286  1.30923           7.284  \n",
       "Central and Eastern Europe                6.505  0.38562           4.218  \n",
       "Eastern Asia                              6.298  0.94675           4.874  \n",
       "Latin America and Caribbean               7.226  0.74302           4.518  \n",
       "Middle East and Northern Africa           7.278  0.47489           3.006  \n",
       "North America                             7.427  1.24711           7.119  \n",
       "Southeastern Asia                         6.798  0.62736           3.819  \n",
       "Southern Asia                             5.253  0.30285           3.575  \n",
       "Sub-Saharan Africa                        5.477  0.00000           2.839  \n",
       "Western Europe                            7.587  0.89318           4.857  \n",
       "All                                       7.587  0.00000           2.839  "
      ]
     },
     "execution_count": 17,
     "metadata": {},
     "output_type": "execute_result"
    }
   ],
   "source": [
    "pv_happy_family_stat"
   ]
  },
  {
   "cell_type": "markdown",
   "metadata": {},
   "source": [
    "## Combining Data with Panda"
   ]
  },
  {
   "cell_type": "code",
   "execution_count": 18,
   "metadata": {},
   "outputs": [],
   "source": [
    "happiness2016 = pd.read_csv(\"World_Happiness_2016.csv\")"
   ]
  },
  {
   "cell_type": "code",
   "execution_count": 19,
   "metadata": {},
   "outputs": [],
   "source": [
    "happiness2016[\"Year\"] = \"2016\"\n",
    "happiness2015[\"Year\"] = \"2015\""
   ]
  },
  {
   "cell_type": "code",
   "execution_count": 20,
   "metadata": {
    "scrolled": true
   },
   "outputs": [],
   "source": [
    "head_2016 = happiness2016.head(3)"
   ]
  },
  {
   "cell_type": "code",
   "execution_count": 21,
   "metadata": {
    "scrolled": true
   },
   "outputs": [],
   "source": [
    "head_2015 = happiness2015.head(3)"
   ]
  },
  {
   "cell_type": "code",
   "execution_count": 22,
   "metadata": {
    "scrolled": true
   },
   "outputs": [
    {
     "data": {
      "text/html": [
       "<div>\n",
       "<style scoped>\n",
       "    .dataframe tbody tr th:only-of-type {\n",
       "        vertical-align: middle;\n",
       "    }\n",
       "\n",
       "    .dataframe tbody tr th {\n",
       "        vertical-align: top;\n",
       "    }\n",
       "\n",
       "    .dataframe thead th {\n",
       "        text-align: right;\n",
       "    }\n",
       "</style>\n",
       "<table border=\"1\" class=\"dataframe\">\n",
       "  <thead>\n",
       "    <tr style=\"text-align: right;\">\n",
       "      <th></th>\n",
       "      <th>Country</th>\n",
       "      <th>Happiness Score</th>\n",
       "      <th>Year</th>\n",
       "      <th>Country</th>\n",
       "      <th>Happiness Score</th>\n",
       "      <th>Year</th>\n",
       "    </tr>\n",
       "  </thead>\n",
       "  <tbody>\n",
       "    <tr>\n",
       "      <td>0</td>\n",
       "      <td>Switzerland</td>\n",
       "      <td>7.587</td>\n",
       "      <td>2015</td>\n",
       "      <td>Denmark</td>\n",
       "      <td>7.526</td>\n",
       "      <td>2016</td>\n",
       "    </tr>\n",
       "    <tr>\n",
       "      <td>1</td>\n",
       "      <td>Iceland</td>\n",
       "      <td>7.561</td>\n",
       "      <td>2015</td>\n",
       "      <td>Switzerland</td>\n",
       "      <td>7.509</td>\n",
       "      <td>2016</td>\n",
       "    </tr>\n",
       "    <tr>\n",
       "      <td>2</td>\n",
       "      <td>Denmark</td>\n",
       "      <td>7.527</td>\n",
       "      <td>2015</td>\n",
       "      <td>Iceland</td>\n",
       "      <td>7.501</td>\n",
       "      <td>2016</td>\n",
       "    </tr>\n",
       "  </tbody>\n",
       "</table>\n",
       "</div>"
      ],
      "text/plain": [
       "       Country  Happiness Score  Year      Country  Happiness Score  Year\n",
       "0  Switzerland            7.587  2015      Denmark            7.526  2016\n",
       "1      Iceland            7.561  2015  Switzerland            7.509  2016\n",
       "2      Denmark            7.527  2015      Iceland            7.501  2016"
      ]
     },
     "execution_count": 22,
     "metadata": {},
     "output_type": "execute_result"
    }
   ],
   "source": [
    "head_test = pd.concat([head_2015[['Country','Happiness Score', 'Year']], head_2016[['Country','Happiness Score', 'Year']]], axis=1)\n",
    "head_test"
   ]
  },
  {
   "cell_type": "markdown",
   "metadata": {},
   "source": [
    "Concat function joins dataset and can join more than one dataset, it can join dataset either vertically(stacked) - axis = 0 or horizontally - axis = 1 for comparison purposes, the default axis = 0, which means to stack dataset on top eachother. It retains the indexes of all datasets combined together but this can be altered by setting the argument `ignore_index = True`"
   ]
  },
  {
   "cell_type": "code",
   "execution_count": 23,
   "metadata": {},
   "outputs": [
    {
     "data": {
      "text/html": [
       "<div>\n",
       "<style scoped>\n",
       "    .dataframe tbody tr th:only-of-type {\n",
       "        vertical-align: middle;\n",
       "    }\n",
       "\n",
       "    .dataframe tbody tr th {\n",
       "        vertical-align: top;\n",
       "    }\n",
       "\n",
       "    .dataframe thead th {\n",
       "        text-align: right;\n",
       "    }\n",
       "</style>\n",
       "<table border=\"1\" class=\"dataframe\">\n",
       "  <thead>\n",
       "    <tr style=\"text-align: right;\">\n",
       "      <th></th>\n",
       "      <th>Country</th>\n",
       "      <th>Happiness Score</th>\n",
       "      <th>Year</th>\n",
       "    </tr>\n",
       "  </thead>\n",
       "  <tbody>\n",
       "    <tr>\n",
       "      <td>0</td>\n",
       "      <td>Switzerland</td>\n",
       "      <td>7.587</td>\n",
       "      <td>2015</td>\n",
       "    </tr>\n",
       "    <tr>\n",
       "      <td>1</td>\n",
       "      <td>Iceland</td>\n",
       "      <td>7.561</td>\n",
       "      <td>2015</td>\n",
       "    </tr>\n",
       "    <tr>\n",
       "      <td>2</td>\n",
       "      <td>Denmark</td>\n",
       "      <td>7.527</td>\n",
       "      <td>2015</td>\n",
       "    </tr>\n",
       "    <tr>\n",
       "      <td>0</td>\n",
       "      <td>Denmark</td>\n",
       "      <td>7.526</td>\n",
       "      <td>2016</td>\n",
       "    </tr>\n",
       "    <tr>\n",
       "      <td>1</td>\n",
       "      <td>Switzerland</td>\n",
       "      <td>7.509</td>\n",
       "      <td>2016</td>\n",
       "    </tr>\n",
       "    <tr>\n",
       "      <td>2</td>\n",
       "      <td>Iceland</td>\n",
       "      <td>7.501</td>\n",
       "      <td>2016</td>\n",
       "    </tr>\n",
       "  </tbody>\n",
       "</table>\n",
       "</div>"
      ],
      "text/plain": [
       "       Country  Happiness Score  Year\n",
       "0  Switzerland            7.587  2015\n",
       "1      Iceland            7.561  2015\n",
       "2      Denmark            7.527  2015\n",
       "0      Denmark            7.526  2016\n",
       "1  Switzerland            7.509  2016\n",
       "2      Iceland            7.501  2016"
      ]
     },
     "execution_count": 23,
     "metadata": {},
     "output_type": "execute_result"
    }
   ],
   "source": [
    "head_test2 = pd.concat([head_2015[['Country','Happiness Score', 'Year']], head_2016[['Country','Happiness Score', 'Year']]])\n",
    "head_test2"
   ]
  },
  {
   "cell_type": "code",
   "execution_count": 24,
   "metadata": {},
   "outputs": [
    {
     "name": "stderr",
     "output_type": "stream",
     "text": [
      "C:\\Users\\DamilareAkinlotan\\Anaconda\\lib\\site-packages\\ipykernel_launcher.py:1: FutureWarning: Sorting because non-concatenation axis is not aligned. A future version\n",
      "of pandas will change to not sort by default.\n",
      "\n",
      "To accept the future behavior, pass 'sort=False'.\n",
      "\n",
      "To retain the current behavior and silence the warning, pass 'sort=True'.\n",
      "\n",
      "  \"\"\"Entry point for launching an IPython kernel.\n"
     ]
    },
    {
     "data": {
      "text/html": [
       "<div>\n",
       "<style scoped>\n",
       "    .dataframe tbody tr th:only-of-type {\n",
       "        vertical-align: middle;\n",
       "    }\n",
       "\n",
       "    .dataframe tbody tr th {\n",
       "        vertical-align: top;\n",
       "    }\n",
       "\n",
       "    .dataframe thead th {\n",
       "        text-align: right;\n",
       "    }\n",
       "</style>\n",
       "<table border=\"1\" class=\"dataframe\">\n",
       "  <thead>\n",
       "    <tr style=\"text-align: right;\">\n",
       "      <th></th>\n",
       "      <th>Country</th>\n",
       "      <th>Happiness Score</th>\n",
       "      <th>Standard Error</th>\n",
       "      <th>Year</th>\n",
       "    </tr>\n",
       "  </thead>\n",
       "  <tbody>\n",
       "    <tr>\n",
       "      <td>0</td>\n",
       "      <td>Switzerland</td>\n",
       "      <td>7.587</td>\n",
       "      <td>0.03411</td>\n",
       "      <td>2015</td>\n",
       "    </tr>\n",
       "    <tr>\n",
       "      <td>1</td>\n",
       "      <td>Iceland</td>\n",
       "      <td>7.561</td>\n",
       "      <td>0.04884</td>\n",
       "      <td>2015</td>\n",
       "    </tr>\n",
       "    <tr>\n",
       "      <td>2</td>\n",
       "      <td>Denmark</td>\n",
       "      <td>7.527</td>\n",
       "      <td>0.03328</td>\n",
       "      <td>2015</td>\n",
       "    </tr>\n",
       "    <tr>\n",
       "      <td>0</td>\n",
       "      <td>Denmark</td>\n",
       "      <td>7.526</td>\n",
       "      <td>NaN</td>\n",
       "      <td>2016</td>\n",
       "    </tr>\n",
       "    <tr>\n",
       "      <td>1</td>\n",
       "      <td>Switzerland</td>\n",
       "      <td>7.509</td>\n",
       "      <td>NaN</td>\n",
       "      <td>2016</td>\n",
       "    </tr>\n",
       "    <tr>\n",
       "      <td>2</td>\n",
       "      <td>Iceland</td>\n",
       "      <td>7.501</td>\n",
       "      <td>NaN</td>\n",
       "      <td>2016</td>\n",
       "    </tr>\n",
       "  </tbody>\n",
       "</table>\n",
       "</div>"
      ],
      "text/plain": [
       "       Country  Happiness Score  Standard Error  Year\n",
       "0  Switzerland            7.587         0.03411  2015\n",
       "1      Iceland            7.561         0.04884  2015\n",
       "2      Denmark            7.527         0.03328  2015\n",
       "0      Denmark            7.526             NaN  2016\n",
       "1  Switzerland            7.509             NaN  2016\n",
       "2      Iceland            7.501             NaN  2016"
      ]
     },
     "execution_count": 24,
     "metadata": {},
     "output_type": "execute_result"
    }
   ],
   "source": [
    "head_test3 = pd.concat([head_2015[['Country','Happiness Score', 'Year', \"Standard Error\"]], head_2016[['Country','Happiness Score', 'Year']]])\n",
    "head_test3"
   ]
  },
  {
   "cell_type": "markdown",
   "metadata": {},
   "source": [
    "Notice that when concating datasets with different shapes, the fucntion automatically fills missing values with NaN values as demonstrated above."
   ]
  },
  {
   "cell_type": "code",
   "execution_count": 25,
   "metadata": {},
   "outputs": [
    {
     "data": {
      "text/html": [
       "<div>\n",
       "<style scoped>\n",
       "    .dataframe tbody tr th:only-of-type {\n",
       "        vertical-align: middle;\n",
       "    }\n",
       "\n",
       "    .dataframe tbody tr th {\n",
       "        vertical-align: top;\n",
       "    }\n",
       "\n",
       "    .dataframe thead th {\n",
       "        text-align: right;\n",
       "    }\n",
       "</style>\n",
       "<table border=\"1\" class=\"dataframe\">\n",
       "  <thead>\n",
       "    <tr style=\"text-align: right;\">\n",
       "      <th></th>\n",
       "      <th>Country</th>\n",
       "      <th>Happiness Score</th>\n",
       "      <th>Year</th>\n",
       "    </tr>\n",
       "  </thead>\n",
       "  <tbody>\n",
       "    <tr>\n",
       "      <td>0</td>\n",
       "      <td>Switzerland</td>\n",
       "      <td>7.587</td>\n",
       "      <td>2015</td>\n",
       "    </tr>\n",
       "    <tr>\n",
       "      <td>1</td>\n",
       "      <td>Iceland</td>\n",
       "      <td>7.561</td>\n",
       "      <td>2015</td>\n",
       "    </tr>\n",
       "    <tr>\n",
       "      <td>2</td>\n",
       "      <td>Denmark</td>\n",
       "      <td>7.527</td>\n",
       "      <td>2015</td>\n",
       "    </tr>\n",
       "    <tr>\n",
       "      <td>3</td>\n",
       "      <td>Denmark</td>\n",
       "      <td>7.526</td>\n",
       "      <td>2016</td>\n",
       "    </tr>\n",
       "    <tr>\n",
       "      <td>4</td>\n",
       "      <td>Switzerland</td>\n",
       "      <td>7.509</td>\n",
       "      <td>2016</td>\n",
       "    </tr>\n",
       "    <tr>\n",
       "      <td>5</td>\n",
       "      <td>Iceland</td>\n",
       "      <td>7.501</td>\n",
       "      <td>2016</td>\n",
       "    </tr>\n",
       "  </tbody>\n",
       "</table>\n",
       "</div>"
      ],
      "text/plain": [
       "       Country  Happiness Score  Year\n",
       "0  Switzerland            7.587  2015\n",
       "1      Iceland            7.561  2015\n",
       "2      Denmark            7.527  2015\n",
       "3      Denmark            7.526  2016\n",
       "4  Switzerland            7.509  2016\n",
       "5      Iceland            7.501  2016"
      ]
     },
     "execution_count": 25,
     "metadata": {},
     "output_type": "execute_result"
    }
   ],
   "source": [
    "concat_update_index = pd.concat([head_2015[['Country','Happiness Score', 'Year']], head_2016[['Country','Happiness Score', 'Year']]], ignore_index = True)\n",
    "#Ignore index to keep just one index as the concat fucntion keeps all data as they were, it only stacks or arrange data side-by-side \n",
    "concat_update_index"
   ]
  },
  {
   "cell_type": "code",
   "execution_count": 26,
   "metadata": {},
   "outputs": [],
   "source": [
    "happiness2017 = pd.read_csv(\"World_Happiness_2017.csv\")\n",
    "happiness2017[\"Year\"] = \"2017\""
   ]
  },
  {
   "cell_type": "code",
   "execution_count": 27,
   "metadata": {},
   "outputs": [
    {
     "data": {
      "text/plain": [
       "Index(['Country', 'Happiness.Rank', 'Happiness.Score', 'Whisker.high',\n",
       "       'Whisker.low', 'Economy..GDP.per.Capita.', 'Family',\n",
       "       'Health..Life.Expectancy.', 'Freedom', 'Generosity',\n",
       "       'Trust..Government.Corruption.', 'Dystopia.Residual', 'Year'],\n",
       "      dtype='object')"
      ]
     },
     "execution_count": 27,
     "metadata": {},
     "output_type": "execute_result"
    }
   ],
   "source": [
    "happiness2017.columns"
   ]
  },
  {
   "cell_type": "code",
   "execution_count": 28,
   "metadata": {},
   "outputs": [],
   "source": [
    "happiness2017.rename(columns={\"Happiness.Rank\":\"Happiness Rank\", \"Happiness.Score\":\"Happiness Score\", \"Dystopia.Residual\":\"Dystopia Residual\"}, inplace= True)"
   ]
  },
  {
   "cell_type": "code",
   "execution_count": 29,
   "metadata": {},
   "outputs": [],
   "source": [
    "happiness2017.rename(columns={\"Economy..GDP.per.Capita.\":\"Economy (GDP per Capita)\", \"Health..Life.Expectancy.\":\"Health (Life Expectancy)\", \"Trust..Government.Corruption.\":\"Trust (Government Corruption)\"}, inplace=True)"
   ]
  },
  {
   "cell_type": "code",
   "execution_count": 30,
   "metadata": {},
   "outputs": [
    {
     "data": {
      "text/html": [
       "<div>\n",
       "<style scoped>\n",
       "    .dataframe tbody tr th:only-of-type {\n",
       "        vertical-align: middle;\n",
       "    }\n",
       "\n",
       "    .dataframe tbody tr th {\n",
       "        vertical-align: top;\n",
       "    }\n",
       "\n",
       "    .dataframe thead th {\n",
       "        text-align: right;\n",
       "    }\n",
       "</style>\n",
       "<table border=\"1\" class=\"dataframe\">\n",
       "  <thead>\n",
       "    <tr style=\"text-align: right;\">\n",
       "      <th></th>\n",
       "      <th>Country</th>\n",
       "      <th>Happiness Rank</th>\n",
       "      <th>Happiness Score</th>\n",
       "      <th>Whisker.high</th>\n",
       "      <th>Whisker.low</th>\n",
       "      <th>Economy (GDP per Capita)</th>\n",
       "      <th>Family</th>\n",
       "      <th>Health (Life Expectancy)</th>\n",
       "      <th>Freedom</th>\n",
       "      <th>Generosity</th>\n",
       "      <th>Trust (Government Corruption)</th>\n",
       "      <th>Dystopia Residual</th>\n",
       "      <th>Year</th>\n",
       "    </tr>\n",
       "  </thead>\n",
       "  <tbody>\n",
       "    <tr>\n",
       "      <td>0</td>\n",
       "      <td>Norway</td>\n",
       "      <td>1</td>\n",
       "      <td>7.537</td>\n",
       "      <td>7.594445</td>\n",
       "      <td>7.479556</td>\n",
       "      <td>1.616463</td>\n",
       "      <td>1.533524</td>\n",
       "      <td>0.796667</td>\n",
       "      <td>0.635423</td>\n",
       "      <td>0.362012</td>\n",
       "      <td>0.315964</td>\n",
       "      <td>2.277027</td>\n",
       "      <td>2017</td>\n",
       "    </tr>\n",
       "    <tr>\n",
       "      <td>1</td>\n",
       "      <td>Denmark</td>\n",
       "      <td>2</td>\n",
       "      <td>7.522</td>\n",
       "      <td>7.581728</td>\n",
       "      <td>7.462272</td>\n",
       "      <td>1.482383</td>\n",
       "      <td>1.551122</td>\n",
       "      <td>0.792566</td>\n",
       "      <td>0.626007</td>\n",
       "      <td>0.355280</td>\n",
       "      <td>0.400770</td>\n",
       "      <td>2.313707</td>\n",
       "      <td>2017</td>\n",
       "    </tr>\n",
       "    <tr>\n",
       "      <td>2</td>\n",
       "      <td>Iceland</td>\n",
       "      <td>3</td>\n",
       "      <td>7.504</td>\n",
       "      <td>7.622030</td>\n",
       "      <td>7.385970</td>\n",
       "      <td>1.480633</td>\n",
       "      <td>1.610574</td>\n",
       "      <td>0.833552</td>\n",
       "      <td>0.627163</td>\n",
       "      <td>0.475540</td>\n",
       "      <td>0.153527</td>\n",
       "      <td>2.322715</td>\n",
       "      <td>2017</td>\n",
       "    </tr>\n",
       "    <tr>\n",
       "      <td>3</td>\n",
       "      <td>Switzerland</td>\n",
       "      <td>4</td>\n",
       "      <td>7.494</td>\n",
       "      <td>7.561772</td>\n",
       "      <td>7.426227</td>\n",
       "      <td>1.564980</td>\n",
       "      <td>1.516912</td>\n",
       "      <td>0.858131</td>\n",
       "      <td>0.620071</td>\n",
       "      <td>0.290549</td>\n",
       "      <td>0.367007</td>\n",
       "      <td>2.276716</td>\n",
       "      <td>2017</td>\n",
       "    </tr>\n",
       "    <tr>\n",
       "      <td>4</td>\n",
       "      <td>Finland</td>\n",
       "      <td>5</td>\n",
       "      <td>7.469</td>\n",
       "      <td>7.527542</td>\n",
       "      <td>7.410458</td>\n",
       "      <td>1.443572</td>\n",
       "      <td>1.540247</td>\n",
       "      <td>0.809158</td>\n",
       "      <td>0.617951</td>\n",
       "      <td>0.245483</td>\n",
       "      <td>0.382612</td>\n",
       "      <td>2.430182</td>\n",
       "      <td>2017</td>\n",
       "    </tr>\n",
       "  </tbody>\n",
       "</table>\n",
       "</div>"
      ],
      "text/plain": [
       "       Country  Happiness Rank  Happiness Score  Whisker.high  Whisker.low  \\\n",
       "0       Norway               1            7.537      7.594445     7.479556   \n",
       "1      Denmark               2            7.522      7.581728     7.462272   \n",
       "2      Iceland               3            7.504      7.622030     7.385970   \n",
       "3  Switzerland               4            7.494      7.561772     7.426227   \n",
       "4      Finland               5            7.469      7.527542     7.410458   \n",
       "\n",
       "   Economy (GDP per Capita)    Family  Health (Life Expectancy)   Freedom  \\\n",
       "0                  1.616463  1.533524                  0.796667  0.635423   \n",
       "1                  1.482383  1.551122                  0.792566  0.626007   \n",
       "2                  1.480633  1.610574                  0.833552  0.627163   \n",
       "3                  1.564980  1.516912                  0.858131  0.620071   \n",
       "4                  1.443572  1.540247                  0.809158  0.617951   \n",
       "\n",
       "   Generosity  Trust (Government Corruption)  Dystopia Residual  Year  \n",
       "0    0.362012                       0.315964           2.277027  2017  \n",
       "1    0.355280                       0.400770           2.313707  2017  \n",
       "2    0.475540                       0.153527           2.322715  2017  \n",
       "3    0.290549                       0.367007           2.276716  2017  \n",
       "4    0.245483                       0.382612           2.430182  2017  "
      ]
     },
     "execution_count": 30,
     "metadata": {},
     "output_type": "execute_result"
    }
   ],
   "source": [
    "happiness2017.head(5)"
   ]
  },
  {
   "cell_type": "code",
   "execution_count": 31,
   "metadata": {
    "scrolled": true
   },
   "outputs": [
    {
     "data": {
      "text/html": [
       "<div>\n",
       "<style scoped>\n",
       "    .dataframe tbody tr th:only-of-type {\n",
       "        vertical-align: middle;\n",
       "    }\n",
       "\n",
       "    .dataframe tbody tr th {\n",
       "        vertical-align: top;\n",
       "    }\n",
       "\n",
       "    .dataframe thead th {\n",
       "        text-align: right;\n",
       "    }\n",
       "</style>\n",
       "<table border=\"1\" class=\"dataframe\">\n",
       "  <thead>\n",
       "    <tr style=\"text-align: right;\">\n",
       "      <th></th>\n",
       "      <th>Country</th>\n",
       "      <th>Happiness Score_x</th>\n",
       "      <th>Year_x</th>\n",
       "      <th>Happiness Rank_x</th>\n",
       "      <th>Happiness Score_y</th>\n",
       "      <th>Year_y</th>\n",
       "      <th>Happiness Rank_y</th>\n",
       "    </tr>\n",
       "  </thead>\n",
       "  <tbody>\n",
       "    <tr>\n",
       "      <td>0</td>\n",
       "      <td>Switzerland</td>\n",
       "      <td>7.587</td>\n",
       "      <td>2015</td>\n",
       "      <td>1</td>\n",
       "      <td>7.509</td>\n",
       "      <td>2016</td>\n",
       "      <td>2</td>\n",
       "    </tr>\n",
       "    <tr>\n",
       "      <td>1</td>\n",
       "      <td>Iceland</td>\n",
       "      <td>7.561</td>\n",
       "      <td>2015</td>\n",
       "      <td>2</td>\n",
       "      <td>7.501</td>\n",
       "      <td>2016</td>\n",
       "      <td>3</td>\n",
       "    </tr>\n",
       "    <tr>\n",
       "      <td>2</td>\n",
       "      <td>Denmark</td>\n",
       "      <td>7.527</td>\n",
       "      <td>2015</td>\n",
       "      <td>3</td>\n",
       "      <td>7.526</td>\n",
       "      <td>2016</td>\n",
       "      <td>1</td>\n",
       "    </tr>\n",
       "    <tr>\n",
       "      <td>3</td>\n",
       "      <td>Norway</td>\n",
       "      <td>7.522</td>\n",
       "      <td>2015</td>\n",
       "      <td>4</td>\n",
       "      <td>7.498</td>\n",
       "      <td>2016</td>\n",
       "      <td>4</td>\n",
       "    </tr>\n",
       "  </tbody>\n",
       "</table>\n",
       "</div>"
      ],
      "text/plain": [
       "       Country  Happiness Score_x Year_x  Happiness Rank_x  Happiness Score_y  \\\n",
       "0  Switzerland              7.587   2015                 1              7.509   \n",
       "1      Iceland              7.561   2015                 2              7.501   \n",
       "2      Denmark              7.527   2015                 3              7.526   \n",
       "3       Norway              7.522   2015                 4              7.498   \n",
       "\n",
       "  Year_y  Happiness Rank_y  \n",
       "0   2016                 2  \n",
       "1   2016                 3  \n",
       "2   2016                 1  \n",
       "3   2016                 4  "
      ]
     },
     "execution_count": 31,
     "metadata": {},
     "output_type": "execute_result"
    }
   ],
   "source": [
    "merged = pd.merge(left = happiness2015[[\"Country\", \"Happiness Score\", \"Year\", \"Happiness Rank\"]].head(5), right = happiness2016[[\"Country\", \"Happiness Score\", \"Year\", \"Happiness Rank\"]].head(5), on = \"Country\")\n",
    "merged"
   ]
  },
  {
   "cell_type": "code",
   "execution_count": 32,
   "metadata": {},
   "outputs": [
    {
     "data": {
      "text/html": [
       "<div>\n",
       "<style scoped>\n",
       "    .dataframe tbody tr th:only-of-type {\n",
       "        vertical-align: middle;\n",
       "    }\n",
       "\n",
       "    .dataframe tbody tr th {\n",
       "        vertical-align: top;\n",
       "    }\n",
       "\n",
       "    .dataframe thead th {\n",
       "        text-align: right;\n",
       "    }\n",
       "</style>\n",
       "<table border=\"1\" class=\"dataframe\">\n",
       "  <thead>\n",
       "    <tr style=\"text-align: right;\">\n",
       "      <th></th>\n",
       "      <th>Country</th>\n",
       "      <th>Happiness Score</th>\n",
       "      <th>Year</th>\n",
       "      <th>Happiness Rank</th>\n",
       "    </tr>\n",
       "  </thead>\n",
       "  <tbody>\n",
       "    <tr>\n",
       "      <td>0</td>\n",
       "      <td>Switzerland</td>\n",
       "      <td>7.587</td>\n",
       "      <td>2015</td>\n",
       "      <td>1</td>\n",
       "    </tr>\n",
       "    <tr>\n",
       "      <td>1</td>\n",
       "      <td>Iceland</td>\n",
       "      <td>7.561</td>\n",
       "      <td>2015</td>\n",
       "      <td>2</td>\n",
       "    </tr>\n",
       "    <tr>\n",
       "      <td>2</td>\n",
       "      <td>Denmark</td>\n",
       "      <td>7.527</td>\n",
       "      <td>2015</td>\n",
       "      <td>3</td>\n",
       "    </tr>\n",
       "    <tr>\n",
       "      <td>3</td>\n",
       "      <td>Norway</td>\n",
       "      <td>7.522</td>\n",
       "      <td>2015</td>\n",
       "      <td>4</td>\n",
       "    </tr>\n",
       "    <tr>\n",
       "      <td>4</td>\n",
       "      <td>Canada</td>\n",
       "      <td>7.427</td>\n",
       "      <td>2015</td>\n",
       "      <td>5</td>\n",
       "    </tr>\n",
       "  </tbody>\n",
       "</table>\n",
       "</div>"
      ],
      "text/plain": [
       "       Country  Happiness Score  Year  Happiness Rank\n",
       "0  Switzerland            7.587  2015               1\n",
       "1      Iceland            7.561  2015               2\n",
       "2      Denmark            7.527  2015               3\n",
       "3       Norway            7.522  2015               4\n",
       "4       Canada            7.427  2015               5"
      ]
     },
     "execution_count": 32,
     "metadata": {},
     "output_type": "execute_result"
    }
   ],
   "source": [
    "happiness2015[[\"Country\", \"Happiness Score\", \"Year\", \"Happiness Rank\"]].head(5)"
   ]
  },
  {
   "cell_type": "code",
   "execution_count": 33,
   "metadata": {},
   "outputs": [
    {
     "data": {
      "text/html": [
       "<div>\n",
       "<style scoped>\n",
       "    .dataframe tbody tr th:only-of-type {\n",
       "        vertical-align: middle;\n",
       "    }\n",
       "\n",
       "    .dataframe tbody tr th {\n",
       "        vertical-align: top;\n",
       "    }\n",
       "\n",
       "    .dataframe thead th {\n",
       "        text-align: right;\n",
       "    }\n",
       "</style>\n",
       "<table border=\"1\" class=\"dataframe\">\n",
       "  <thead>\n",
       "    <tr style=\"text-align: right;\">\n",
       "      <th></th>\n",
       "      <th>Country</th>\n",
       "      <th>Happiness Score</th>\n",
       "      <th>Year</th>\n",
       "      <th>Happiness Rank</th>\n",
       "    </tr>\n",
       "  </thead>\n",
       "  <tbody>\n",
       "    <tr>\n",
       "      <td>0</td>\n",
       "      <td>Denmark</td>\n",
       "      <td>7.526</td>\n",
       "      <td>2016</td>\n",
       "      <td>1</td>\n",
       "    </tr>\n",
       "    <tr>\n",
       "      <td>1</td>\n",
       "      <td>Switzerland</td>\n",
       "      <td>7.509</td>\n",
       "      <td>2016</td>\n",
       "      <td>2</td>\n",
       "    </tr>\n",
       "    <tr>\n",
       "      <td>2</td>\n",
       "      <td>Iceland</td>\n",
       "      <td>7.501</td>\n",
       "      <td>2016</td>\n",
       "      <td>3</td>\n",
       "    </tr>\n",
       "    <tr>\n",
       "      <td>3</td>\n",
       "      <td>Norway</td>\n",
       "      <td>7.498</td>\n",
       "      <td>2016</td>\n",
       "      <td>4</td>\n",
       "    </tr>\n",
       "    <tr>\n",
       "      <td>4</td>\n",
       "      <td>Finland</td>\n",
       "      <td>7.413</td>\n",
       "      <td>2016</td>\n",
       "      <td>5</td>\n",
       "    </tr>\n",
       "  </tbody>\n",
       "</table>\n",
       "</div>"
      ],
      "text/plain": [
       "       Country  Happiness Score  Year  Happiness Rank\n",
       "0      Denmark            7.526  2016               1\n",
       "1  Switzerland            7.509  2016               2\n",
       "2      Iceland            7.501  2016               3\n",
       "3       Norway            7.498  2016               4\n",
       "4      Finland            7.413  2016               5"
      ]
     },
     "execution_count": 33,
     "metadata": {},
     "output_type": "execute_result"
    }
   ],
   "source": [
    "happiness2016[[\"Country\", \"Happiness Score\", \"Year\", \"Happiness Rank\"]].head(5)"
   ]
  },
  {
   "cell_type": "markdown",
   "metadata": {},
   "source": [
    "Since we joined the dataframes on the Country column, or used it as the key, the merge() function looked to match elements in the Country column in BOTH dataframes.\n",
    "Two Countries were not returned which are Canada and Finland because they do not appear in both left and right dataset, the elements returned are those that appeared in BOTH datasets."
   ]
  },
  {
   "cell_type": "markdown",
   "metadata": {},
   "source": [
    "Merge function only combines dataframes horizontally (axis=1) and can only combine two dataframes at a time. With the merge() function, we'll combine dataframes on a key, a shared index or column. When choosing a key, it's good practice to use keys with unique values to avoid duplicating data.\n",
    "\n",
    "You can think of keys as creating a link from one dataframe to another using the common values or indexes.\n",
    "\n",
    "This way of combining, or joining, data is called an inner join. An inner join returns only the intersection of the keys, or the elements that appear in both dataframes with a common key.\n",
    "\n",
    "There are actually four different types of joins:\n",
    "\n",
    "- Inner: only includes elements that appear in both dataframes with a common key\n",
    "- Outer: includes all data from both dataframes\n",
    "- Left: includes all of the rows from the \"left\" dataframe along with any rows from the \"right\" dataframe with a common key; the result retains all columns from both of the original dataframes\n",
    "- Right: includes all of the rows from the \"right\" dataframe along with any rows from the \"left\" dataframe with a common key; the result retains all columns from both of the original dataframes\n",
    "\n",
    "If the definition for outer joins sounds familiar, it's because we've already seen examples of outer joins! Recall that when we combined data using the concat function, it kept all of the data from all dataframes, no matter if missing values were created."
   ]
  },
  {
   "cell_type": "code",
   "execution_count": 34,
   "metadata": {},
   "outputs": [
    {
     "data": {
      "text/html": [
       "<div>\n",
       "<style scoped>\n",
       "    .dataframe tbody tr th:only-of-type {\n",
       "        vertical-align: middle;\n",
       "    }\n",
       "\n",
       "    .dataframe tbody tr th {\n",
       "        vertical-align: top;\n",
       "    }\n",
       "\n",
       "    .dataframe thead th {\n",
       "        text-align: right;\n",
       "    }\n",
       "</style>\n",
       "<table border=\"1\" class=\"dataframe\">\n",
       "  <thead>\n",
       "    <tr style=\"text-align: right;\">\n",
       "      <th></th>\n",
       "      <th>Country</th>\n",
       "      <th>Happiness Score_x</th>\n",
       "      <th>Year_x</th>\n",
       "      <th>Happiness Rank_x</th>\n",
       "      <th>Happiness Score_y</th>\n",
       "      <th>Year_y</th>\n",
       "      <th>Happiness Rank_y</th>\n",
       "    </tr>\n",
       "  </thead>\n",
       "  <tbody>\n",
       "    <tr>\n",
       "      <td>0</td>\n",
       "      <td>Switzerland</td>\n",
       "      <td>7.587</td>\n",
       "      <td>2015</td>\n",
       "      <td>1</td>\n",
       "      <td>7.509</td>\n",
       "      <td>2016</td>\n",
       "      <td>2.0</td>\n",
       "    </tr>\n",
       "    <tr>\n",
       "      <td>1</td>\n",
       "      <td>Iceland</td>\n",
       "      <td>7.561</td>\n",
       "      <td>2015</td>\n",
       "      <td>2</td>\n",
       "      <td>7.501</td>\n",
       "      <td>2016</td>\n",
       "      <td>3.0</td>\n",
       "    </tr>\n",
       "    <tr>\n",
       "      <td>2</td>\n",
       "      <td>Denmark</td>\n",
       "      <td>7.527</td>\n",
       "      <td>2015</td>\n",
       "      <td>3</td>\n",
       "      <td>7.526</td>\n",
       "      <td>2016</td>\n",
       "      <td>1.0</td>\n",
       "    </tr>\n",
       "    <tr>\n",
       "      <td>3</td>\n",
       "      <td>Norway</td>\n",
       "      <td>7.522</td>\n",
       "      <td>2015</td>\n",
       "      <td>4</td>\n",
       "      <td>7.498</td>\n",
       "      <td>2016</td>\n",
       "      <td>4.0</td>\n",
       "    </tr>\n",
       "    <tr>\n",
       "      <td>4</td>\n",
       "      <td>Canada</td>\n",
       "      <td>7.427</td>\n",
       "      <td>2015</td>\n",
       "      <td>5</td>\n",
       "      <td>NaN</td>\n",
       "      <td>NaN</td>\n",
       "      <td>NaN</td>\n",
       "    </tr>\n",
       "  </tbody>\n",
       "</table>\n",
       "</div>"
      ],
      "text/plain": [
       "       Country  Happiness Score_x Year_x  Happiness Rank_x  Happiness Score_y  \\\n",
       "0  Switzerland              7.587   2015                 1              7.509   \n",
       "1      Iceland              7.561   2015                 2              7.501   \n",
       "2      Denmark              7.527   2015                 3              7.526   \n",
       "3       Norway              7.522   2015                 4              7.498   \n",
       "4       Canada              7.427   2015                 5                NaN   \n",
       "\n",
       "  Year_y  Happiness Rank_y  \n",
       "0   2016               2.0  \n",
       "1   2016               3.0  \n",
       "2   2016               1.0  \n",
       "3   2016               4.0  \n",
       "4    NaN               NaN  "
      ]
     },
     "execution_count": 34,
     "metadata": {},
     "output_type": "execute_result"
    }
   ],
   "source": [
    "merged_left = pd.merge(left = happiness2015[[\"Country\", \"Happiness Score\", \"Year\", \"Happiness Rank\"]].head(5), right = happiness2016[[\"Country\", \"Happiness Score\", \"Year\", \"Happiness Rank\"]].head(5), how = \"left\", on = \"Country\")\n",
    "merged_left"
   ]
  },
  {
   "cell_type": "code",
   "execution_count": 35,
   "metadata": {
    "scrolled": true
   },
   "outputs": [
    {
     "data": {
      "text/html": [
       "<div>\n",
       "<style scoped>\n",
       "    .dataframe tbody tr th:only-of-type {\n",
       "        vertical-align: middle;\n",
       "    }\n",
       "\n",
       "    .dataframe tbody tr th {\n",
       "        vertical-align: top;\n",
       "    }\n",
       "\n",
       "    .dataframe thead th {\n",
       "        text-align: right;\n",
       "    }\n",
       "</style>\n",
       "<table border=\"1\" class=\"dataframe\">\n",
       "  <thead>\n",
       "    <tr style=\"text-align: right;\">\n",
       "      <th></th>\n",
       "      <th>Country_2015</th>\n",
       "      <th>Happiness Rank_2015</th>\n",
       "      <th>Happiness Score_2015</th>\n",
       "      <th>Year_2015</th>\n",
       "      <th>Country_2016</th>\n",
       "      <th>Happiness Rank_2016</th>\n",
       "      <th>Happiness Score_2016</th>\n",
       "      <th>Year_2016</th>\n",
       "    </tr>\n",
       "  </thead>\n",
       "  <tbody>\n",
       "    <tr>\n",
       "      <td>0</td>\n",
       "      <td>Switzerland</td>\n",
       "      <td>1</td>\n",
       "      <td>7.587</td>\n",
       "      <td>2015</td>\n",
       "      <td>Denmark</td>\n",
       "      <td>1.0</td>\n",
       "      <td>7.526</td>\n",
       "      <td>2016</td>\n",
       "    </tr>\n",
       "    <tr>\n",
       "      <td>1</td>\n",
       "      <td>Iceland</td>\n",
       "      <td>2</td>\n",
       "      <td>7.561</td>\n",
       "      <td>2015</td>\n",
       "      <td>Switzerland</td>\n",
       "      <td>2.0</td>\n",
       "      <td>7.509</td>\n",
       "      <td>2016</td>\n",
       "    </tr>\n",
       "    <tr>\n",
       "      <td>2</td>\n",
       "      <td>Denmark</td>\n",
       "      <td>3</td>\n",
       "      <td>7.527</td>\n",
       "      <td>2015</td>\n",
       "      <td>Iceland</td>\n",
       "      <td>3.0</td>\n",
       "      <td>7.501</td>\n",
       "      <td>2016</td>\n",
       "    </tr>\n",
       "    <tr>\n",
       "      <td>3</td>\n",
       "      <td>Norway</td>\n",
       "      <td>4</td>\n",
       "      <td>7.522</td>\n",
       "      <td>2015</td>\n",
       "      <td>NaN</td>\n",
       "      <td>NaN</td>\n",
       "      <td>NaN</td>\n",
       "      <td>NaN</td>\n",
       "    </tr>\n",
       "    <tr>\n",
       "      <td>4</td>\n",
       "      <td>Canada</td>\n",
       "      <td>5</td>\n",
       "      <td>7.427</td>\n",
       "      <td>2015</td>\n",
       "      <td>NaN</td>\n",
       "      <td>NaN</td>\n",
       "      <td>NaN</td>\n",
       "      <td>NaN</td>\n",
       "    </tr>\n",
       "  </tbody>\n",
       "</table>\n",
       "</div>"
      ],
      "text/plain": [
       "  Country_2015  Happiness Rank_2015  Happiness Score_2015 Year_2015  \\\n",
       "0  Switzerland                    1                 7.587      2015   \n",
       "1      Iceland                    2                 7.561      2015   \n",
       "2      Denmark                    3                 7.527      2015   \n",
       "3       Norway                    4                 7.522      2015   \n",
       "4       Canada                    5                 7.427      2015   \n",
       "\n",
       "  Country_2016  Happiness Rank_2016  Happiness Score_2016 Year_2016  \n",
       "0      Denmark                  1.0                 7.526      2016  \n",
       "1  Switzerland                  2.0                 7.509      2016  \n",
       "2      Iceland                  3.0                 7.501      2016  \n",
       "3          NaN                  NaN                   NaN       NaN  \n",
       "4          NaN                  NaN                   NaN       NaN  "
      ]
     },
     "execution_count": 35,
     "metadata": {},
     "output_type": "execute_result"
    }
   ],
   "source": [
    "merge_index = pd.merge(left=happiness2015[[\"Country\", \"Happiness Rank\", \"Happiness Score\", \"Year\"]].head(5), right=happiness2016[[\"Country\", \"Happiness Rank\", \"Happiness Score\", \"Year\"]].head(3), left_index=True, right_index=True, suffixes=('_2015','_2016'), how = \"left\")\n",
    "merge_index"
   ]
  },
  {
   "cell_type": "markdown",
   "metadata": {},
   "source": [
    "Another way to join dataframes - on the index. We'll join `happiness2015` and `happiness2016` on index using an inner join, so that the result contains only the elements in the key that appear in BOTH dataframes. To join on the index, we'll set the `left_index` and `right_index` parameters to `True`. \n",
    "When we join on index, however, our result will contain only common indexes."
   ]
  },
  {
   "cell_type": "code",
   "execution_count": 36,
   "metadata": {},
   "outputs": [
    {
     "name": "stdout",
     "output_type": "stream",
     "text": [
      "<class 'pandas.core.frame.DataFrame'>\n",
      "RangeIndex: 470 entries, 0 to 469\n",
      "Data columns (total 17 columns):\n",
      "Country                          470 non-null object\n",
      "Dystopia Residual                470 non-null float64\n",
      "Economy (GDP per Capita)         470 non-null float64\n",
      "Family                           470 non-null float64\n",
      "Freedom                          470 non-null float64\n",
      "Generosity                       470 non-null float64\n",
      "Happiness Rank                   470 non-null int64\n",
      "Happiness Score                  470 non-null float64\n",
      "Health (Life Expectancy)         470 non-null float64\n",
      "Lower Confidence Interval        157 non-null float64\n",
      "Region                           315 non-null object\n",
      "Standard Error                   158 non-null float64\n",
      "Trust (Government Corruption)    470 non-null float64\n",
      "Upper Confidence Interval        157 non-null float64\n",
      "Whisker.high                     155 non-null float64\n",
      "Whisker.low                      155 non-null float64\n",
      "Year                             470 non-null object\n",
      "dtypes: float64(13), int64(1), object(3)\n",
      "memory usage: 62.5+ KB\n"
     ]
    },
    {
     "name": "stderr",
     "output_type": "stream",
     "text": [
      "C:\\Users\\DamilareAkinlotan\\Anaconda\\lib\\site-packages\\ipykernel_launcher.py:1: FutureWarning: Sorting because non-concatenation axis is not aligned. A future version\n",
      "of pandas will change to not sort by default.\n",
      "\n",
      "To accept the future behavior, pass 'sort=False'.\n",
      "\n",
      "To retain the current behavior and silence the warning, pass 'sort=True'.\n",
      "\n",
      "  \"\"\"Entry point for launching an IPython kernel.\n"
     ]
    }
   ],
   "source": [
    "combined = pd.concat([happiness2015, happiness2016, happiness2017], ignore_index= True)\n",
    "combined.info()"
   ]
  },
  {
   "cell_type": "code",
   "execution_count": 37,
   "metadata": {},
   "outputs": [
    {
     "data": {
      "text/plain": [
       "<matplotlib.axes._subplots.AxesSubplot at 0x25a45037788>"
      ]
     },
     "execution_count": 37,
     "metadata": {},
     "output_type": "execute_result"
    },
    {
     "data": {
      "image/png": "[encoded data removed]",
      "text/plain": [
       "<Figure size 432x288 with 1 Axes>"
      ]
     },
     "metadata": {
      "needs_background": "light"
     },
     "output_type": "display_data"
    }
   ],
   "source": [
    "combined.pivot_table(\"Happiness Score\", \"Year\", aggfunc=(np.mean), margins=True).plot(kind=\"barh\", xlim=(0,10), title=\"Mean Happiness Score over three years\")"
   ]
  },
  {
   "cell_type": "markdown",
   "metadata": {},
   "source": [
    "## Transforming Data With Panda"
   ]
  },
  {
   "cell_type": "markdown",
   "metadata": {},
   "source": [
    "Pandas has a couple methods that can be used to apply a custom function like the one above to our data, starting with the following two methods:\n",
    "\n",
    "- Series.map() method\n",
    "- Series.apply() method\n",
    "\n",
    "Both methods above apply a function element-wise to a column. When we say element-wise, we mean that we pass the function one value in the series at a time and it performs some kind of transformation."
   ]
  },
  {
   "cell_type": "code",
   "execution_count": 38,
   "metadata": {},
   "outputs": [
    {
     "data": {
      "text/plain": [
       "Index(['Country', 'Region', 'Happiness Rank', 'Happiness Score',\n",
       "       'Standard Error', 'Economy (GDP per Capita)', 'Family',\n",
       "       'Health (Life Expectancy)', 'Freedom', 'Trust (Government Corruption)',\n",
       "       'Generosity', 'Dystopia Residual', 'Year'],\n",
       "      dtype='object')"
      ]
     },
     "execution_count": 38,
     "metadata": {},
     "output_type": "execute_result"
    }
   ],
   "source": [
    "happiness2015.columns"
   ]
  },
  {
   "cell_type": "code",
   "execution_count": 39,
   "metadata": {
    "scrolled": false
   },
   "outputs": [
    {
     "data": {
      "text/plain": [
       "True"
      ]
     },
     "execution_count": 39,
     "metadata": {},
     "output_type": "execute_result"
    }
   ],
   "source": [
    "def label(x):\n",
    "    if x > 1:\n",
    "        return \"high\"\n",
    "    else:\n",
    "        return \"low\"\n",
    "    \n",
    "economy_impact_apply = happiness2015[\"Economy (GDP per Capita)\"].apply(label)\n",
    "economy_impact_map = happiness2015[\"Economy (GDP per Capita)\"].map(label)\n",
    "economy_impact_apply.equals(economy_impact_map)"
   ]
  },
  {
   "cell_type": "code",
   "execution_count": 40,
   "metadata": {},
   "outputs": [],
   "source": [
    "def label(x, y):\n",
    "    if x > y:\n",
    "        return \"high\"\n",
    "    else:\n",
    "        return \"low\"\n",
    "    \n",
    "economy_impact_apply = happiness2015[\"Economy (GDP per Capita)\"].apply(label, y=0.8)"
   ]
  },
  {
   "cell_type": "code",
   "execution_count": 41,
   "metadata": {},
   "outputs": [
    {
     "ename": "TypeError",
     "evalue": "map() got an unexpected keyword argument 'y'",
     "output_type": "error",
     "traceback": [
      "\u001b[1;31m---------------------------------------------------------------------------\u001b[0m",
      "\u001b[1;31mTypeError\u001b[0m                                 Traceback (most recent call last)",
      "\u001b[1;32m<ipython-input-41-0b5571ae87e5>\u001b[0m in \u001b[0;36m<module>\u001b[1;34m\u001b[0m\n\u001b[1;32m----> 1\u001b[1;33m \u001b[0meconomy_impact_map\u001b[0m \u001b[1;33m=\u001b[0m \u001b[0mhappiness2015\u001b[0m\u001b[1;33m[\u001b[0m\u001b[1;34m\"Economy (GDP per Capita)\"\u001b[0m\u001b[1;33m]\u001b[0m\u001b[1;33m.\u001b[0m\u001b[0mmap\u001b[0m\u001b[1;33m(\u001b[0m\u001b[0mlabel\u001b[0m\u001b[1;33m,\u001b[0m \u001b[0my\u001b[0m\u001b[1;33m=\u001b[0m\u001b[1;36m0.8\u001b[0m\u001b[1;33m)\u001b[0m\u001b[1;33m\u001b[0m\u001b[1;33m\u001b[0m\u001b[0m\n\u001b[0m",
      "\u001b[1;31mTypeError\u001b[0m: map() got an unexpected keyword argument 'y'"
     ]
    }
   ],
   "source": [
    "economy_impact_map = happiness2015[\"Economy (GDP per Capita)\"].map(label, y=0.8)"
   ]
  },
  {
   "cell_type": "markdown",
   "metadata": {},
   "source": [
    "This is the basic difference between `map()` and `apply()` function, the ability to take a modifiable fucntion"
   ]
  },
  {
   "cell_type": "markdown",
   "metadata": {},
   "source": [
    "We can apply a function element-wise to multiple columns using the df.applymap() method.\n",
    "\n",
    "> def label(element):\n",
    "    \n",
    ">     if element > 1:\n",
    "\n",
    ">        return 'High'\n",
    "\n",
    ">     else:\n",
    "\n",
    ">        return 'Low'\n",
    "\n",
    "factors = ['Economy', 'Family', 'Health', 'Freedom', 'Trust', 'Generosity'] \n",
    "\n",
    "factors_impact = happiness2015[factors].applymap(label)"
   ]
  },
  {
   "cell_type": "code",
   "execution_count": null,
   "metadata": {},
   "outputs": [],
   "source": [
    "def label(x):\n",
    "    if x > 1:\n",
    "        return \"high\"\n",
    "    else:\n",
    "        return \"low\"\n",
    "    \n",
    "factors = ['Economy (GDP per Capita)', 'Family', 'Health (Life Expectancy)', 'Freedom', 'Trust (Government Corruption)', 'Generosity'] \n",
    "factors_impact = happiness2015[factors].applymap(label)"
   ]
  },
  {
   "cell_type": "code",
   "execution_count": null,
   "metadata": {
    "scrolled": true
   },
   "outputs": [],
   "source": [
    "factors_impact"
   ]
  },
  {
   "cell_type": "code",
   "execution_count": null,
   "metadata": {},
   "outputs": [],
   "source": [
    "def v_counts(col):\n",
    "    num = col.value_counts()\n",
    "    den = col.size\n",
    "    result = num/den\n",
    "    return result\n",
    "\n",
    "v_counts_pct = factors_impact.apply(v_counts)\n",
    "v_counts_pct"
   ]
  },
  {
   "cell_type": "code",
   "execution_count": null,
   "metadata": {},
   "outputs": [],
   "source": [
    "factors = happiness2015[['Economy (GDP per Capita)', 'Family', 'Health (Life Expectancy)', 'Freedom', 'Trust (Government Corruption)', 'Generosity', \"Dystopia Residual\"]]\n",
    "\n",
    "def percen(col):\n",
    "    div = col/happiness2015[\"Happiness Score\"]\n",
    "    result = div*100\n",
    "    return result\n",
    "\n",
    "factors_percentages = factors.apply(percentages)\n",
    "factors_percentages"
   ]
  },
  {
   "cell_type": "code",
   "execution_count": null,
   "metadata": {},
   "outputs": [],
   "source": [
    "melt = pd.melt(happiness2015, id_vars = ['Country', 'Region', 'Happiness Rank', 'Happiness Score'], value_vars = ['Economy (GDP per Capita)', 'Family', 'Health (Life Expectancy)', 'Freedom', 'Trust (Government Corruption)', 'Generosity', 'Dystopia Residual'])\n",
    "melt['Percentage'] = melt['value']/melt['Happiness Score'] * 100\n",
    "melt"
   ]
  },
  {
   "cell_type": "markdown",
   "metadata": {},
   "source": [
    "The melt function moved the values in the seven columns - Economy, Health, Family, Freedom, Generosity, Trust, and Dystopia Residual - to the same column, which meant we could transform them all at once.\n",
    "\n",
    "You may have also noticed that now the data is in a format that makes it easier to aggregate. We refer to data in this format as tidy data."
   ]
  },
  {
   "cell_type": "code",
   "execution_count": null,
   "metadata": {},
   "outputs": [],
   "source": [
    "pv_melt = melt.pivot_table(index=\"variable\", values=\"value\")\n",
    "pv_melt.plot(kind=\"pie\", y=\"value\", legend=False)"
   ]
  },
  {
   "cell_type": "markdown",
   "metadata": {},
   "source": [
    "## Working with Strings in Panda"
   ]
  },
  {
   "cell_type": "code",
   "execution_count": null,
   "metadata": {},
   "outputs": [],
   "source": [
    "world_dev = pd.read_csv(\"World_dev.csv\")"
   ]
  },
  {
   "cell_type": "code",
   "execution_count": null,
   "metadata": {},
   "outputs": [],
   "source": [
    "world_dev.info()"
   ]
  },
  {
   "cell_type": "code",
   "execution_count": null,
   "metadata": {},
   "outputs": [],
   "source": [
    "merged = pd.merge(left=happiness2015, right=world_dev, how=\"left\", left_on=\"Country\", right_on =\"ShortName\")"
   ]
  },
  {
   "cell_type": "code",
   "execution_count": null,
   "metadata": {},
   "outputs": [],
   "source": [
    "merged.rename(columns={\"SourceOfMostRecentIncomeAndExpenditureData\":\"IESurvey\"}, inplace=True)"
   ]
  },
  {
   "cell_type": "code",
   "execution_count": null,
   "metadata": {},
   "outputs": [],
   "source": [
    "merged.columns"
   ]
  },
  {
   "cell_type": "code",
   "execution_count": null,
   "metadata": {},
   "outputs": [],
   "source": [
    "merger = merged[[\"ShortName\", \"CurrencyUnit\", \"IncomeGroup\", \"IESurvey\", \"Region_x\", \"SpecialNotes\"]]\n",
    "merger"
   ]
  },
  {
   "cell_type": "code",
   "execution_count": null,
   "metadata": {
    "scrolled": true
   },
   "outputs": [],
   "source": [
    "def extract_last_word(element):\n",
    "    return str(element).split()[-1]\n",
    "\n",
    "currency_apply = merged['CurrencyUnit'].apply(extract_last_word)\n",
    "currency_apply"
   ]
  },
  {
   "cell_type": "markdown",
   "metadata": {},
   "source": [
    "We extracted the last word of each element in the CurrencyUnit column using the Series.apply() method"
   ]
  },
  {
   "cell_type": "code",
   "execution_count": null,
   "metadata": {},
   "outputs": [],
   "source": [
    "merger"
   ]
  },
  {
   "cell_type": "markdown",
   "metadata": {},
   "source": [
    "In the last exercise, we extracted the last word of each element in the CurrencyUnit column using the Series.apply() method. However, we also learned in the last mission that we should use built-in vectorized methods (if they exist) instead of the Series.apply() method for performance reasons.\n",
    "\n",
    "Instead, we could've split each element in the CurrencyUnit column into a list of strings with the Series.str.split() method, the vectorized equivalent of Python's string.split() method\n",
    "\n",
    "In fact, pandas has built in a number of vectorized methods that perform the same operations for strings in series as Python string methods.\n",
    "\n",
    "Below are some common vectorized string methods, but you can find the full list here:\n",
    "\n",
    "Method\tDescription\n",
    "- Series.str.split() -\tSplits each element in the Series.\n",
    "- Series.str.strip() -\tStrips whitespace from each string in the Series.\n",
    "- Series.str.lower() -\tConverts strings in the Series to lowercase.\n",
    "- Series.str.upper() -\tConverts strings in the Series to uppercase.\n",
    "- Series.str.get() -\tRetrieves the ith element of each element in the Series.\n",
    "- Series.str.replace() -\tReplaces a regex or string in the Series with another string.\n",
    "- Series.str.cat() -\tConcatenates strings in a Series.\n",
    "- Series.str.extract()- \tExtracts substrings from the Series matching a regex pattern.\n",
    "\n",
    "\n",
    "> The str attribute indicates that each object in the Series should be treated as a string, without us having to explicitly change the type to a string like we did when using the apply method. Note that we can also slice each element in the Series to extract characters, but we'd still need to use the str attribute.\n",
    "\n",
    "> It's also good to know that vectorized string methods can be chained. For example, suppose we needed to split each element in the CurrencyUnit column into a list of strings using the Series.str.split() method and capitalize the letters using the Series.str.upper() method. You can use the following syntax to apply more than one method at once:\n",
    "\n",
    "`merged['CurrencyUnit'].str.upper().str.split()`\n",
    "\n",
    "However, don't forget to include str before each method name, or you'll get an error!"
   ]
  },
  {
   "cell_type": "code",
   "execution_count": null,
   "metadata": {},
   "outputs": [],
   "source": [
    "currency_vectorized = merger[\"CurrencyUnit\"].str.split().str.get(-1)\n",
    "currency_vectorized"
   ]
  },
  {
   "cell_type": "code",
   "execution_count": null,
   "metadata": {},
   "outputs": [],
   "source": [
    "lengths = merger['CurrencyUnit'].str.len()\n",
    "value_counts = lengths.value_counts(dropna=False)\n",
    "value_counts"
   ]
  },
  {
   "cell_type": "code",
   "execution_count": null,
   "metadata": {},
   "outputs": [],
   "source": [
    "national_accounts = merger[\"SpecialNotes\"].str.contains(r\"[Nn]ational accounts\")\n",
    "national_accounts"
   ]
  },
  {
   "cell_type": "code",
   "execution_count": null,
   "metadata": {},
   "outputs": [],
   "source": [
    "national_accounts = merger[\"SpecialNotes\"].str.contains(r\"[Nn]ational accounts\", na=False)\n",
    "national_accounts"
   ]
  },
  {
   "cell_type": "code",
   "execution_count": null,
   "metadata": {},
   "outputs": [],
   "source": [
    "merger_national_accounts = merger[national_accounts]\n",
    "merger_national_accounts.head()"
   ]
  },
  {
   "cell_type": "code",
   "execution_count": null,
   "metadata": {
    "scrolled": true
   },
   "outputs": [],
   "source": [
    "pattern =r\"()\" #r\"(), pattern in the () is called the capture group in which the method will be focused on\n",
    "pattern = r\"([1-2][0-9]{3})\" #focusing on capturing years between 1000 and 2999 with this capture groupb\n",
    "years = merger['SpecialNotes'].str.extract(pattern, expand=False) #expand to false to make the result a series instead of df, expand is always true by default\n",
    "years.value_counts(dropna=False)"
   ]
  },
  {
   "cell_type": "code",
   "execution_count": null,
   "metadata": {},
   "outputs": [],
   "source": [
    "pattern = r\"(?P<Years>[1-2][0-9]{3})\" #?P<Years> is use to name the returning column from this method\n",
    "years = merger['IESurvey'].str.extractall(pattern)\n",
    "years['Years'].value_counts()"
   ]
  },
  {
   "cell_type": "code",
   "execution_count": null,
   "metadata": {},
   "outputs": [],
   "source": [
    "pattern = r\"(?P<First_Year>[1-2][0-9]{3})/?(?P<Second_Year>[0-9]{2})?\"\n",
    "years = merger['IESurvey'].str.extractall(pattern)\n",
    "first_two_year = years['First_Year'].str[0:2]\n",
    "years['Second_Year'] = first_two_year + years['Second_Year']"
   ]
  },
  {
   "cell_type": "code",
   "execution_count": null,
   "metadata": {
    "scrolled": true
   },
   "outputs": [],
   "source": [
    "years"
   ]
  },
  {
   "cell_type": "code",
   "execution_count": null,
   "metadata": {},
   "outputs": [],
   "source": [
    "merged[\"IncomeGroup\"] = merged[\"IncomeGroup\"].str.strip().str.upper().str.replace(\"income\", \"\").str.replace(\":\", \"\").str.replace(\"income:\", \"\")\n",
    "merged[\"IncomeGroup\"].value_counts(dropna=False)"
   ]
  },
  {
   "cell_type": "code",
   "execution_count": null,
   "metadata": {},
   "outputs": [],
   "source": [
    "pv_income = merged.pivot_table(values=\"Happiness Score\", index=\"IncomeGroup\")\n",
    "pv_income.plot(kind=\"bar\", ylim=(0,10), rot = 30, title= \"Pivot Table of Income Groups\")\n",
    "plt.show()"
   ]
  },
  {
   "cell_type": "markdown",
   "metadata": {},
   "source": [
    "# Working with Missing and Duplicate Data"
   ]
  },
  {
   "cell_type": "code",
   "execution_count": null,
   "metadata": {},
   "outputs": [],
   "source": [
    "happiness2015 = pd.read_csv(\"wh_2015.csv\")\n",
    "happiness2016 = pd.read_csv(\"wh_2016.csv\")\n",
    "happiness2017 = pd.read_csv(\"wh_2017.csv\")"
   ]
  },
  {
   "cell_type": "code",
   "execution_count": null,
   "metadata": {},
   "outputs": [],
   "source": [
    "shape_2015 = happiness2015.shape\n",
    "shape_2016 = happiness2016.shape\n",
    "shape_2017 = happiness2017.shape\n",
    "print(shape_2015, shape_2016, shape_2017)"
   ]
  },
  {
   "cell_type": "code",
   "execution_count": null,
   "metadata": {},
   "outputs": [],
   "source": [
    "happiness2015.info()"
   ]
  },
  {
   "cell_type": "code",
   "execution_count": null,
   "metadata": {},
   "outputs": [],
   "source": [
    "happiness2016.info()"
   ]
  },
  {
   "cell_type": "code",
   "execution_count": null,
   "metadata": {},
   "outputs": [],
   "source": [
    "happiness2017.info()"
   ]
  },
  {
   "cell_type": "code",
   "execution_count": null,
   "metadata": {},
   "outputs": [],
   "source": [
    "happiness2015.isnull().sum()"
   ]
  },
  {
   "cell_type": "code",
   "execution_count": null,
   "metadata": {},
   "outputs": [],
   "source": [
    "happiness2016.isnull().sum()"
   ]
  },
  {
   "cell_type": "code",
   "execution_count": null,
   "metadata": {},
   "outputs": [],
   "source": [
    "happiness2017.isnull().sum()"
   ]
  },
  {
   "cell_type": "code",
   "execution_count": null,
   "metadata": {},
   "outputs": [],
   "source": [
    "happiness2017.columns"
   ]
  },
  {
   "cell_type": "code",
   "execution_count": null,
   "metadata": {},
   "outputs": [],
   "source": [
    "happiness2016.columns"
   ]
  },
  {
   "cell_type": "code",
   "execution_count": null,
   "metadata": {},
   "outputs": [],
   "source": [
    "happiness2015.columns"
   ]
  },
  {
   "cell_type": "code",
   "execution_count": null,
   "metadata": {},
   "outputs": [],
   "source": [
    "happiness2017.columns = happiness2017.columns.str.replace('.', ' ').str.replace('\\s+', ' ').str.strip().str.upper()\n",
    "happiness2015.columns = happiness2015.columns.str.replace('(', '').str.replace(')', '').str.strip().str.upper()\n",
    "happiness2016.columns = happiness2016.columns.str.replace('(', '').str.replace(')', '').str.strip().str.upper()\n",
    "\n",
    "combined = pd.concat([happiness2015, happiness2016, happiness2017], ignore_index=True)\n",
    "missing = combined.isnull().sum()"
   ]
  },
  {
   "cell_type": "code",
   "execution_count": null,
   "metadata": {},
   "outputs": [],
   "source": [
    "combined[\"COUNTRY\"] = combined[\"COUNTRY\"].str.upper()\n",
    "combined.head()"
   ]
  },
  {
   "cell_type": "code",
   "execution_count": null,
   "metadata": {},
   "outputs": [],
   "source": [
    "missing"
   ]
  },
  {
   "cell_type": "code",
   "execution_count": null,
   "metadata": {},
   "outputs": [],
   "source": [
    "combined.columns"
   ]
  },
  {
   "cell_type": "code",
   "execution_count": null,
   "metadata": {},
   "outputs": [],
   "source": [
    "combined.shape"
   ]
  },
  {
   "cell_type": "code",
   "execution_count": null,
   "metadata": {},
   "outputs": [],
   "source": [
    "combined_updated = combined.set_index(\"YEAR\")"
   ]
  },
  {
   "cell_type": "code",
   "execution_count": null,
   "metadata": {},
   "outputs": [],
   "source": [
    "regions_2017 = combined[combined[\"YEAR\"]==2017][\"REGION\"]"
   ]
  },
  {
   "cell_type": "code",
   "execution_count": null,
   "metadata": {},
   "outputs": [],
   "source": [
    "missing_2017 = regions_2017.isnull().sum()\n",
    "missing_2017"
   ]
  },
  {
   "cell_type": "code",
   "execution_count": null,
   "metadata": {},
   "outputs": [],
   "source": [
    "regions = combined[[\"COUNTRY\", \"REGION\"]]\n",
    "regions"
   ]
  },
  {
   "cell_type": "code",
   "execution_count": null,
   "metadata": {},
   "outputs": [],
   "source": [
    "reg = {}\n",
    "for country in regions[\"COUNTRY\"]:\n",
    "    r = regions[regions[\"COUNTRY\"]==country][\"REGION\"]\n",
    "    if country not in reg:\n",
    "        reg[country]=r\n",
    "    else:\n",
    "        pass\n",
    "        \n",
    "reg"
   ]
  },
  {
   "cell_type": "code",
   "execution_count": null,
   "metadata": {},
   "outputs": [],
   "source": [
    "combined_test = combined[[\"COUNTRY\", \"REGION\", \"YEAR\"]]\n",
    "combined_test.head(5)"
   ]
  },
  {
   "cell_type": "code",
   "execution_count": null,
   "metadata": {},
   "outputs": [],
   "source": [
    "combined_test[\"REGION\"].value_counts(dropna=False)"
   ]
  },
  {
   "cell_type": "code",
   "execution_count": null,
   "metadata": {
    "scrolled": true
   },
   "outputs": [],
   "source": [
    "regi = {}\n",
    "for key in reg:\n",
    "    regi[key] = reg[key].iloc[0]\n",
    "    \n",
    "regi"
   ]
  },
  {
   "cell_type": "code",
   "execution_count": null,
   "metadata": {},
   "outputs": [],
   "source": [
    "combined.duplicated([\"COUNTRY\", \"YEAR\"]).value_counts(dropna=False)"
   ]
  },
  {
   "cell_type": "code",
   "execution_count": null,
   "metadata": {},
   "outputs": [],
   "source": [
    "combined[\"COUNTRY\"] = combined[\"COUNTRY\"].str.upper()\n",
    "dups = combined[combined.duplicated([\"COUNTRY\", \"YEAR\"])]\n",
    "dups"
   ]
  },
  {
   "cell_type": "code",
   "execution_count": null,
   "metadata": {},
   "outputs": [],
   "source": [
    "combined = combined.drop_duplicates([\"COUNTRY\", \"YEAR\"], keep = \"first\")"
   ]
  },
  {
   "cell_type": "code",
   "execution_count": null,
   "metadata": {},
   "outputs": [],
   "source": [
    "combined[combined.duplicated([\"COUNTRY\", \"YEAR\"])]"
   ]
  },
  {
   "cell_type": "code",
   "execution_count": null,
   "metadata": {},
   "outputs": [],
   "source": [
    "combined.isnull().sum()"
   ]
  },
  {
   "cell_type": "code",
   "execution_count": null,
   "metadata": {},
   "outputs": [],
   "source": [
    "columns_to_drop = ['LOWER CONFIDENCE INTERVAL', 'STANDARD ERROR', 'UPPER CONFIDENCE INTERVAL', 'WHISKER HIGH', 'WHISKER LOW']\n",
    "combined = combined.drop(columns_to_drop, axis = 1)\n",
    "missing = combined.isnull().sum()\n",
    "missing"
   ]
  },
  {
   "cell_type": "code",
   "execution_count": null,
   "metadata": {},
   "outputs": [],
   "source": [
    "combined.dropna(thresh=159, axis=1)"
   ]
  },
  {
   "cell_type": "code",
   "execution_count": null,
   "metadata": {},
   "outputs": [],
   "source": [
    "combined.notnull().sum()"
   ]
  },
  {
   "cell_type": "code",
   "execution_count": null,
   "metadata": {},
   "outputs": [],
   "source": [
    "combined.isnull().sum()"
   ]
  },
  {
   "cell_type": "code",
   "execution_count": null,
   "metadata": {},
   "outputs": [],
   "source": [
    "sorted = combined.set_index('REGION').sort_values(['REGION', 'HAPPINESS SCORE'])\n",
    "sns.heatmap(sorted.isnull(), cbar=False)"
   ]
  },
  {
   "cell_type": "code",
   "execution_count": null,
   "metadata": {},
   "outputs": [],
   "source": [
    "happiness_mean = combined['HAPPINESS SCORE'].mean()\n",
    "print(happiness_mean)\n",
    "combined['HAPPINESS SCORE UPDATED'] = combined['HAPPINESS SCORE'].fillna(happiness_mean)\n",
    "print(combined['HAPPINESS SCORE UPDATED'].mean())"
   ]
  },
  {
   "cell_type": "markdown",
   "metadata": {},
   "source": [
    "## Guided Project on Dete and Tafe Dataset"
   ]
  },
  {
   "cell_type": "code",
   "execution_count": null,
   "metadata": {},
   "outputs": [],
   "source": [
    "dete = pd.read_csv(\"dete_exit.csv\", encoding= \"Latin-1\", na_values=\"Not Stated\")\n",
    "tafe = pd.read_csv(\"tafe_exit.csv\", encoding= \"Latin-1\")"
   ]
  },
  {
   "cell_type": "code",
   "execution_count": null,
   "metadata": {},
   "outputs": [],
   "source": [
    "dete"
   ]
  },
  {
   "cell_type": "code",
   "execution_count": null,
   "metadata": {},
   "outputs": [],
   "source": [
    "tafe"
   ]
  },
  {
   "cell_type": "markdown",
   "metadata": {},
   "source": [
    "Dropping irrelevant columns from both datasets"
   ]
  },
  {
   "cell_type": "code",
   "execution_count": null,
   "metadata": {},
   "outputs": [],
   "source": [
    "dete = dete.drop(dete.columns[28:49],axis=1)\n",
    "tafe = tafe.drop(tafe.columns[17:66],axis=1)"
   ]
  },
  {
   "cell_type": "code",
   "execution_count": null,
   "metadata": {
    "scrolled": true
   },
   "outputs": [],
   "source": [
    "dete"
   ]
  },
  {
   "cell_type": "code",
   "execution_count": null,
   "metadata": {
    "scrolled": true
   },
   "outputs": [],
   "source": [
    "tafe"
   ]
  },
  {
   "cell_type": "code",
   "execution_count": null,
   "metadata": {
    "scrolled": true
   },
   "outputs": [],
   "source": [
    "tafe.isnull().sum()"
   ]
  },
  {
   "cell_type": "code",
   "execution_count": null,
   "metadata": {
    "scrolled": true
   },
   "outputs": [],
   "source": [
    "dete.isnull().sum()"
   ]
  },
  {
   "cell_type": "code",
   "execution_count": null,
   "metadata": {},
   "outputs": [],
   "source": [
    "dete.columns = dete.columns.str.lower().str.strip().str.replace(\" \", \"_\").str.replace(\"/\", \"_\")"
   ]
  },
  {
   "cell_type": "code",
   "execution_count": null,
   "metadata": {},
   "outputs": [],
   "source": [
    "tafe.rename(columns={\"Record ID\":\"id\",\"CESSATION YEAR\":\"cease_date\",\"Reason for ceasing employment\":\"separationtype\",\"Gender. \\xa0\\xa0\\xa0\\xa0What is your Gender?\":\"gender\",\"CurrentAge. \\xa0\\xa0\\xa0\\xa0Current Age\":\"age\",\"Employment Type. \\xa0\\xa0\\xa0\\xa0Employment Type\":\"employment_status\",\"Classification. \\xa0\\xa0\\xa0\\xa0Classification\":\"position\",\"LengthofServiceOverall. Overall Length of Service at Institute (in years)\":\"institute_service\",\"LengthofServiceCurrent. Length of Service at current workplace (in years)\":\"role_service\"}, inplace = True)"
   ]
  },
  {
   "cell_type": "markdown",
   "metadata": {},
   "source": [
    "Renamed these columns so they could be matched to that of dete dataset"
   ]
  },
  {
   "cell_type": "code",
   "execution_count": null,
   "metadata": {},
   "outputs": [],
   "source": [
    "tafe.columns"
   ]
  },
  {
   "cell_type": "code",
   "execution_count": null,
   "metadata": {},
   "outputs": [],
   "source": [
    "dete.columns"
   ]
  },
  {
   "cell_type": "code",
   "execution_count": null,
   "metadata": {},
   "outputs": [],
   "source": [
    "dete[\"separationtype\"].value_counts(dropna=False)"
   ]
  },
  {
   "cell_type": "code",
   "execution_count": null,
   "metadata": {},
   "outputs": [],
   "source": [
    "tafe[\"separationtype\"].value_counts(dropna=False)"
   ]
  },
  {
   "cell_type": "code",
   "execution_count": null,
   "metadata": {},
   "outputs": [],
   "source": [
    "dete_resign = dete[\"separationtype\"].str.contains(r\"(Resignation)\")\n",
    "dete_res = dete[dete_resign]\n",
    "dete_res"
   ]
  },
  {
   "cell_type": "code",
   "execution_count": null,
   "metadata": {},
   "outputs": [],
   "source": [
    "dete_resign.value_counts(dropna=False)"
   ]
  },
  {
   "cell_type": "code",
   "execution_count": null,
   "metadata": {},
   "outputs": [],
   "source": [
    "tafe_resign = tafe[\"separationtype\"].str.contains(r\"(Resignation)\")\n",
    "tafe_resign.value_counts(dropna=False)"
   ]
  },
  {
   "cell_type": "code",
   "execution_count": null,
   "metadata": {
    "scrolled": true
   },
   "outputs": [],
   "source": [
    "tafe_res = tafe[tafe[\"separationtype\"] == \"Resignation\"]\n",
    "tafe_res"
   ]
  },
  {
   "cell_type": "code",
   "execution_count": null,
   "metadata": {
    "scrolled": true
   },
   "outputs": [],
   "source": [
    "dete_res[\"cease_date\"].value_counts(dropna=False).sort_index(ascending=True)"
   ]
  },
  {
   "cell_type": "code",
   "execution_count": null,
   "metadata": {
    "scrolled": true
   },
   "outputs": [],
   "source": [
    "dete_res[\"dete_start_date\"].value_counts(dropna=False).sort_index(ascending=True)"
   ]
  },
  {
   "cell_type": "code",
   "execution_count": null,
   "metadata": {
    "scrolled": true
   },
   "outputs": [],
   "source": [
    "cease_date = dete_res[\"cease_date\"].str.extract(r\"([2][0-9]{3})\")\n",
    "cease_date.astype(float)\n",
    "cease_date"
   ]
  },
  {
   "cell_type": "code",
   "execution_count": null,
   "metadata": {},
   "outputs": [],
   "source": [
    "tafe_res[\"cease_date\"].value_counts(dropna=False).sort_index(ascending=True)"
   ]
  },
  {
   "cell_type": "code",
   "execution_count": null,
   "metadata": {},
   "outputs": [],
   "source": [
    "tafe_res.info()"
   ]
  },
  {
   "cell_type": "code",
   "execution_count": null,
   "metadata": {},
   "outputs": [],
   "source": [
    "dete_res[\"institute_service\"] = dete_res[\"cease_date\"].str.extract(r\"([2][0-9]{3})\", expand=False).astype(float) - dete_res[\"dete_start_date\"]"
   ]
  },
  {
   "cell_type": "code",
   "execution_count": null,
   "metadata": {
    "scrolled": true
   },
   "outputs": [],
   "source": [
    "dete_res.isnull().sum()"
   ]
  },
  {
   "cell_type": "code",
   "execution_count": null,
   "metadata": {},
   "outputs": [],
   "source": [
    "dete_res = dete_res.drop([\"nesb\", \"disability\", \"south_sea\", \"aboriginal\", \"torres_strait\", \"business_unit\", \"classification\"], axis=1)"
   ]
  },
  {
   "cell_type": "code",
   "execution_count": null,
   "metadata": {
    "scrolled": true
   },
   "outputs": [],
   "source": [
    "dete_res.isnull().sum()"
   ]
  },
  {
   "cell_type": "code",
   "execution_count": null,
   "metadata": {},
   "outputs": [],
   "source": [
    "tafe_res.info()"
   ]
  },
  {
   "cell_type": "code",
   "execution_count": null,
   "metadata": {},
   "outputs": [],
   "source": [
    "tafe_res.columns = tafe_res.columns.str.lower().str.strip().str.replace(\".\",\"_\").str.replace(\" \",\"\").str.replace(\"-\",\"_\")"
   ]
  },
  {
   "cell_type": "code",
   "execution_count": null,
   "metadata": {},
   "outputs": [],
   "source": [
    "tafe_res[\"contributingfactors_dissatisfaction\"].value_counts(dropna=False)"
   ]
  },
  {
   "cell_type": "code",
   "execution_count": null,
   "metadata": {},
   "outputs": [],
   "source": [
    "tafe_res[\"contributingfactors_jobdissatisfaction\"].value_counts(dropna=False)"
   ]
  },
  {
   "cell_type": "code",
   "execution_count": null,
   "metadata": {},
   "outputs": [],
   "source": [
    "def update(x):\n",
    "    if pd.isnull(x):\n",
    "        return np.nan\n",
    "    elif x == \"-\":\n",
    "        return False\n",
    "    else:\n",
    "        return True"
   ]
  },
  {
   "cell_type": "code",
   "execution_count": null,
   "metadata": {},
   "outputs": [],
   "source": [
    "tafe_res[\"dissatisfied\"] = tafe_res[[\"contributingfactors_dissatisfaction\",\"contributingfactors_jobdissatisfaction\"]].applymap(update).any(axis =1, skipna=False)"
   ]
  },
  {
   "cell_type": "code",
   "execution_count": null,
   "metadata": {},
   "outputs": [],
   "source": [
    "tafe_res[\"dissatisfied\"].value_counts(dropna=False)"
   ]
  },
  {
   "cell_type": "code",
   "execution_count": null,
   "metadata": {},
   "outputs": [],
   "source": [
    "dete_res[\"dissatisfied\"] = dete_res[[\"job_dissatisfaction\", \"dissatisfaction_with_the_department\", \"physical_work_environment\", \"lack_of_recognition\", \"lack_of_job_security\",\n",
    "                                                      \"work_location\", \"employment_conditions\", \"work_life_balance\", \"workload\"]].any(axis =1, skipna=False)"
   ]
  },
  {
   "cell_type": "code",
   "execution_count": null,
   "metadata": {},
   "outputs": [],
   "source": [
    "tafe_res[\"institute\"] = \"TAFE\"\n",
    "dete_res[\"institute\"] = \"DETE\""
   ]
  },
  {
   "cell_type": "code",
   "execution_count": null,
   "metadata": {},
   "outputs": [],
   "source": [
    "combined = pd.concat([dete_res, tafe_res])"
   ]
  },
  {
   "cell_type": "code",
   "execution_count": null,
   "metadata": {
    "scrolled": true
   },
   "outputs": [],
   "source": [
    "combined.info()"
   ]
  },
  {
   "cell_type": "code",
   "execution_count": null,
   "metadata": {
    "scrolled": true
   },
   "outputs": [],
   "source": [
    "combined.isnull().sum().sort_values(ascending=True)"
   ]
  },
  {
   "cell_type": "code",
   "execution_count": null,
   "metadata": {},
   "outputs": [],
   "source": [
    "combined_update = combined.dropna(thresh=500, axis =1 )\n",
    "combined_update.isnull().sum()"
   ]
  },
  {
   "cell_type": "code",
   "execution_count": null,
   "metadata": {},
   "outputs": [],
   "source": [
    "combined_update"
   ]
  },
  {
   "cell_type": "code",
   "execution_count": null,
   "metadata": {
    "scrolled": true
   },
   "outputs": [],
   "source": [
    "combined_update[\"institute_service\"].value_counts(dropna=False)"
   ]
  },
  {
   "cell_type": "code",
   "execution_count": null,
   "metadata": {
    "scrolled": true
   },
   "outputs": [],
   "source": [
    "#Character Class  Pattern      Explanation\n",
    "#Digit            \\d           Any digit character (equivalent to [0-9])\n",
    "#One or more   a+        a{1,}      The Character a one or more times\n",
    "\n",
    "pat = r\"(\\d+)\"\n",
    "combined_update[\"institute_service\"] = combined_update[\"institute_service\"].astype(str).str.extract(pat, expand = False)\n",
    "combined_update[\"institute_service\"] = combined_update[\"institute_service\"].astype(float)\n",
    "combined_update[\"institute_service\"].value_counts(dropna=False)"
   ]
  },
  {
   "cell_type": "code",
   "execution_count": null,
   "metadata": {
    "scrolled": true
   },
   "outputs": [],
   "source": [
    "def maps(x):\n",
    "    if pd.isnull(x):\n",
    "        return np.nan\n",
    "    elif x<3:\n",
    "        return \"New: Less than 3 years at a company\"\n",
    "    elif x>=3 and x<=6:\n",
    "        return \"Experienced: 3-6 years at a company\"\n",
    "    elif x>=7 and x<=10:\n",
    "        return \"Established: 7-10 years at a company\"\n",
    "    elif x>= 11:\n",
    "        return \"Veteran: 11 or more years at a company\"\n",
    "    \n",
    "    \n",
    "combined_update[\"service_cat\"] = combined_update[\"institute_service\"].apply(maps)\n",
    "combined_update"
   ]
  },
  {
   "cell_type": "code",
   "execution_count": null,
   "metadata": {},
   "outputs": [],
   "source": [
    "combined_update[\"dissatisfied\"].value_counts(dropna=False)"
   ]
  },
  {
   "cell_type": "code",
   "execution_count": null,
   "metadata": {},
   "outputs": [],
   "source": [
    "combined_update[\"dissatisfied\"] = combined_update[\"dissatisfied\"].fillna(False)"
   ]
  },
  {
   "cell_type": "code",
   "execution_count": null,
   "metadata": {},
   "outputs": [],
   "source": [
    "combined_update[\"dissatisfied\"].value_counts(dropna=False)"
   ]
  },
  {
   "cell_type": "code",
   "execution_count": null,
   "metadata": {},
   "outputs": [],
   "source": [
    "pv_combined = combined_update.pivot_table(values=\"dissatisfied\", index=\"service_cat\")"
   ]
  },
  {
   "cell_type": "code",
   "execution_count": null,
   "metadata": {},
   "outputs": [],
   "source": [
    "pv_combined.plot(kind=\"bar\", xlim=(0,10), legend=True, title=\"Plot of dissatisfied workers based on their service category\")"
   ]
  },
  {
   "cell_type": "markdown",
   "metadata": {},
   "source": [
    "We have more experienced workers and veterans workers dissatisfied over the course of time"
   ]
  },
  {
   "cell_type": "markdown",
   "metadata": {},
   "source": [
    "## END"
   ]
  }
 ],
 "metadata": {
  "kernelspec": {
   "display_name": "Python 3",
   "language": "python",
   "name": "python3"
  },
  "language_info": {
   "codemirror_mode": {
    "name": "ipython",
    "version": 3
   },
   "file_extension": ".py",
   "mimetype": "text/x-python",
   "name": "python",
   "nbconvert_exporter": "python",
   "pygments_lexer": "ipython3",
   "version": "3.7.4"
  }
 },
 "nbformat": 4,
 "nbformat_minor": 2
}
